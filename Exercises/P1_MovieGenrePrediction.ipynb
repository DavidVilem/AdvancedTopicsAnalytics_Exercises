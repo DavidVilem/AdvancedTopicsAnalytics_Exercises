{
  "cells": [
    {
      "cell_type": "markdown",
      "metadata": {
        "id": "Uk2LGOPynx_q"
      },
      "source": [
        "## Movie Genre Classification\n",
        "\n",
        "Classify a movie genre based on its plot.\n",
        "\n",
        "<img src=\"https://raw.githubusercontent.com/sergiomora03/AdvancedTopicsAnalytics/main/notebooks/img/moviegenre.png\"\n",
        "     style=\"float: left; margin-right: 10px;\" />\n",
        "\n",
        "\n",
        "\n",
        "### Data\n",
        "\n",
        "Input:\n",
        "- movie plot\n",
        "\n",
        "Output:\n",
        "Probability of the movie belong to each genre\n",
        "\n",
        "\n",
        "### Evaluation\n",
        "\n",
        "- 30% Report with all the details of the solution, the analysis and the conclusions. The report cannot exceed 10 pages, must be send in PDF format and must be self-contained.\n",
        "- 30% Code with the data processing and models developed that support the reported results.\n",
        "- 30% Presentation of no more than 15 minutes with the main results of the project.\n",
        "- 10% Model performance achieved. Metric: \"AUC\".\n",
        "\n",
        "• The project must be carried out in groups of 4 people.\n",
        "• Use clear and rigorous procedures.\n",
        "• The delivery of the project is on March 15th, 2024, 11:59 pm, through email with Github link.\n",
        "• No projects will be received after the delivery time or by any other means than the one established.\n",
        "\n",
        "\n",
        "\n",
        "\n",
        "### Acknowledgements\n",
        "\n",
        "We thank Professor Fabio Gonzalez, Ph.D. and his student John Arevalo for providing this dataset.\n",
        "\n",
        "See https://arxiv.org/abs/1702.01992"
      ]
    },
    {
      "cell_type": "markdown",
      "metadata": {
        "id": "VC9WLyERnx_s"
      },
      "source": [
        "## Sample Submission"
      ]
    },
    {
      "cell_type": "code",
      "execution_count": 1,
      "metadata": {
        "id": "5ziFq2aunx_s"
      },
      "outputs": [],
      "source": [
        "import pandas as pd\n",
        "import os\n",
        "import numpy as np\n",
        "from sklearn.feature_extraction.text import CountVectorizer\n",
        "from sklearn.preprocessing import MultiLabelBinarizer\n",
        "from sklearn.multiclass import OneVsRestClassifier\n",
        "from sklearn.ensemble import RandomForestRegressor, RandomForestClassifier\n",
        "from sklearn.metrics import r2_score, roc_auc_score\n",
        "from sklearn.model_selection import train_test_split"
      ]
    },
    {
      "cell_type": "code",
      "execution_count": 2,
      "metadata": {
        "id": "m3hJnPBWnx_t"
      },
      "outputs": [],
      "source": [
        "dataTraining = pd.read_csv('https://github.com/sergiomora03/AdvancedTopicsAnalytics/raw/main/datasets/dataTraining.zip', encoding='UTF-8', index_col=0)\n",
        "dataTesting = pd.read_csv('https://github.com/sergiomora03/AdvancedTopicsAnalytics/raw/main/datasets/dataTesting.zip', encoding='UTF-8', index_col=0)"
      ]
    },
    {
      "cell_type": "code",
      "execution_count": 3,
      "metadata": {
        "colab": {
          "base_uri": "https://localhost:8080/",
          "height": 206
        },
        "id": "KjaVaw8Tnx_u",
        "outputId": "01b92c50-e7a8-4f4f-e265-40cae83675bc"
      },
      "outputs": [
        {
          "output_type": "execute_result",
          "data": {
            "text/plain": [
              "      year                      title  \\\n",
              "3107  2003                       Most   \n",
              "900   2008  How to Be a Serial Killer   \n",
              "6724  1941             A Woman's Face   \n",
              "4704  1954            Executive Suite   \n",
              "2582  1990              Narrow Margin   \n",
              "\n",
              "                                                   plot  \\\n",
              "3107  most is the story of a single father who takes...   \n",
              "900   a serial killer decides to teach the secrets o...   \n",
              "6724  in sweden ,  a female blackmailer with a disfi...   \n",
              "4704  in a friday afternoon in new york ,  the presi...   \n",
              "2582  in los angeles ,  the editor of a publishing h...   \n",
              "\n",
              "                                  genres  rating  \n",
              "3107                  ['Short', 'Drama']     8.0  \n",
              "900        ['Comedy', 'Crime', 'Horror']     5.6  \n",
              "6724  ['Drama', 'Film-Noir', 'Thriller']     7.2  \n",
              "4704                           ['Drama']     7.4  \n",
              "2582     ['Action', 'Crime', 'Thriller']     6.6  "
            ],
            "text/html": [
              "\n",
              "  <div id=\"df-e02c5dc5-2812-46bc-99b3-907de1d34669\" class=\"colab-df-container\">\n",
              "    <div>\n",
              "<style scoped>\n",
              "    .dataframe tbody tr th:only-of-type {\n",
              "        vertical-align: middle;\n",
              "    }\n",
              "\n",
              "    .dataframe tbody tr th {\n",
              "        vertical-align: top;\n",
              "    }\n",
              "\n",
              "    .dataframe thead th {\n",
              "        text-align: right;\n",
              "    }\n",
              "</style>\n",
              "<table border=\"1\" class=\"dataframe\">\n",
              "  <thead>\n",
              "    <tr style=\"text-align: right;\">\n",
              "      <th></th>\n",
              "      <th>year</th>\n",
              "      <th>title</th>\n",
              "      <th>plot</th>\n",
              "      <th>genres</th>\n",
              "      <th>rating</th>\n",
              "    </tr>\n",
              "  </thead>\n",
              "  <tbody>\n",
              "    <tr>\n",
              "      <th>3107</th>\n",
              "      <td>2003</td>\n",
              "      <td>Most</td>\n",
              "      <td>most is the story of a single father who takes...</td>\n",
              "      <td>['Short', 'Drama']</td>\n",
              "      <td>8.0</td>\n",
              "    </tr>\n",
              "    <tr>\n",
              "      <th>900</th>\n",
              "      <td>2008</td>\n",
              "      <td>How to Be a Serial Killer</td>\n",
              "      <td>a serial killer decides to teach the secrets o...</td>\n",
              "      <td>['Comedy', 'Crime', 'Horror']</td>\n",
              "      <td>5.6</td>\n",
              "    </tr>\n",
              "    <tr>\n",
              "      <th>6724</th>\n",
              "      <td>1941</td>\n",
              "      <td>A Woman's Face</td>\n",
              "      <td>in sweden ,  a female blackmailer with a disfi...</td>\n",
              "      <td>['Drama', 'Film-Noir', 'Thriller']</td>\n",
              "      <td>7.2</td>\n",
              "    </tr>\n",
              "    <tr>\n",
              "      <th>4704</th>\n",
              "      <td>1954</td>\n",
              "      <td>Executive Suite</td>\n",
              "      <td>in a friday afternoon in new york ,  the presi...</td>\n",
              "      <td>['Drama']</td>\n",
              "      <td>7.4</td>\n",
              "    </tr>\n",
              "    <tr>\n",
              "      <th>2582</th>\n",
              "      <td>1990</td>\n",
              "      <td>Narrow Margin</td>\n",
              "      <td>in los angeles ,  the editor of a publishing h...</td>\n",
              "      <td>['Action', 'Crime', 'Thriller']</td>\n",
              "      <td>6.6</td>\n",
              "    </tr>\n",
              "  </tbody>\n",
              "</table>\n",
              "</div>\n",
              "    <div class=\"colab-df-buttons\">\n",
              "\n",
              "  <div class=\"colab-df-container\">\n",
              "    <button class=\"colab-df-convert\" onclick=\"convertToInteractive('df-e02c5dc5-2812-46bc-99b3-907de1d34669')\"\n",
              "            title=\"Convert this dataframe to an interactive table.\"\n",
              "            style=\"display:none;\">\n",
              "\n",
              "  <svg xmlns=\"http://www.w3.org/2000/svg\" height=\"24px\" viewBox=\"0 -960 960 960\">\n",
              "    <path d=\"M120-120v-720h720v720H120Zm60-500h600v-160H180v160Zm220 220h160v-160H400v160Zm0 220h160v-160H400v160ZM180-400h160v-160H180v160Zm440 0h160v-160H620v160ZM180-180h160v-160H180v160Zm440 0h160v-160H620v160Z\"/>\n",
              "  </svg>\n",
              "    </button>\n",
              "\n",
              "  <style>\n",
              "    .colab-df-container {\n",
              "      display:flex;\n",
              "      gap: 12px;\n",
              "    }\n",
              "\n",
              "    .colab-df-convert {\n",
              "      background-color: #E8F0FE;\n",
              "      border: none;\n",
              "      border-radius: 50%;\n",
              "      cursor: pointer;\n",
              "      display: none;\n",
              "      fill: #1967D2;\n",
              "      height: 32px;\n",
              "      padding: 0 0 0 0;\n",
              "      width: 32px;\n",
              "    }\n",
              "\n",
              "    .colab-df-convert:hover {\n",
              "      background-color: #E2EBFA;\n",
              "      box-shadow: 0px 1px 2px rgba(60, 64, 67, 0.3), 0px 1px 3px 1px rgba(60, 64, 67, 0.15);\n",
              "      fill: #174EA6;\n",
              "    }\n",
              "\n",
              "    .colab-df-buttons div {\n",
              "      margin-bottom: 4px;\n",
              "    }\n",
              "\n",
              "    [theme=dark] .colab-df-convert {\n",
              "      background-color: #3B4455;\n",
              "      fill: #D2E3FC;\n",
              "    }\n",
              "\n",
              "    [theme=dark] .colab-df-convert:hover {\n",
              "      background-color: #434B5C;\n",
              "      box-shadow: 0px 1px 3px 1px rgba(0, 0, 0, 0.15);\n",
              "      filter: drop-shadow(0px 1px 2px rgba(0, 0, 0, 0.3));\n",
              "      fill: #FFFFFF;\n",
              "    }\n",
              "  </style>\n",
              "\n",
              "    <script>\n",
              "      const buttonEl =\n",
              "        document.querySelector('#df-e02c5dc5-2812-46bc-99b3-907de1d34669 button.colab-df-convert');\n",
              "      buttonEl.style.display =\n",
              "        google.colab.kernel.accessAllowed ? 'block' : 'none';\n",
              "\n",
              "      async function convertToInteractive(key) {\n",
              "        const element = document.querySelector('#df-e02c5dc5-2812-46bc-99b3-907de1d34669');\n",
              "        const dataTable =\n",
              "          await google.colab.kernel.invokeFunction('convertToInteractive',\n",
              "                                                    [key], {});\n",
              "        if (!dataTable) return;\n",
              "\n",
              "        const docLinkHtml = 'Like what you see? Visit the ' +\n",
              "          '<a target=\"_blank\" href=https://colab.research.google.com/notebooks/data_table.ipynb>data table notebook</a>'\n",
              "          + ' to learn more about interactive tables.';\n",
              "        element.innerHTML = '';\n",
              "        dataTable['output_type'] = 'display_data';\n",
              "        await google.colab.output.renderOutput(dataTable, element);\n",
              "        const docLink = document.createElement('div');\n",
              "        docLink.innerHTML = docLinkHtml;\n",
              "        element.appendChild(docLink);\n",
              "      }\n",
              "    </script>\n",
              "  </div>\n",
              "\n",
              "\n",
              "<div id=\"df-d37b5cd4-4ed0-4499-813f-08e7b88784ec\">\n",
              "  <button class=\"colab-df-quickchart\" onclick=\"quickchart('df-d37b5cd4-4ed0-4499-813f-08e7b88784ec')\"\n",
              "            title=\"Suggest charts\"\n",
              "            style=\"display:none;\">\n",
              "\n",
              "<svg xmlns=\"http://www.w3.org/2000/svg\" height=\"24px\"viewBox=\"0 0 24 24\"\n",
              "     width=\"24px\">\n",
              "    <g>\n",
              "        <path d=\"M19 3H5c-1.1 0-2 .9-2 2v14c0 1.1.9 2 2 2h14c1.1 0 2-.9 2-2V5c0-1.1-.9-2-2-2zM9 17H7v-7h2v7zm4 0h-2V7h2v10zm4 0h-2v-4h2v4z\"/>\n",
              "    </g>\n",
              "</svg>\n",
              "  </button>\n",
              "\n",
              "<style>\n",
              "  .colab-df-quickchart {\n",
              "      --bg-color: #E8F0FE;\n",
              "      --fill-color: #1967D2;\n",
              "      --hover-bg-color: #E2EBFA;\n",
              "      --hover-fill-color: #174EA6;\n",
              "      --disabled-fill-color: #AAA;\n",
              "      --disabled-bg-color: #DDD;\n",
              "  }\n",
              "\n",
              "  [theme=dark] .colab-df-quickchart {\n",
              "      --bg-color: #3B4455;\n",
              "      --fill-color: #D2E3FC;\n",
              "      --hover-bg-color: #434B5C;\n",
              "      --hover-fill-color: #FFFFFF;\n",
              "      --disabled-bg-color: #3B4455;\n",
              "      --disabled-fill-color: #666;\n",
              "  }\n",
              "\n",
              "  .colab-df-quickchart {\n",
              "    background-color: var(--bg-color);\n",
              "    border: none;\n",
              "    border-radius: 50%;\n",
              "    cursor: pointer;\n",
              "    display: none;\n",
              "    fill: var(--fill-color);\n",
              "    height: 32px;\n",
              "    padding: 0;\n",
              "    width: 32px;\n",
              "  }\n",
              "\n",
              "  .colab-df-quickchart:hover {\n",
              "    background-color: var(--hover-bg-color);\n",
              "    box-shadow: 0 1px 2px rgba(60, 64, 67, 0.3), 0 1px 3px 1px rgba(60, 64, 67, 0.15);\n",
              "    fill: var(--button-hover-fill-color);\n",
              "  }\n",
              "\n",
              "  .colab-df-quickchart-complete:disabled,\n",
              "  .colab-df-quickchart-complete:disabled:hover {\n",
              "    background-color: var(--disabled-bg-color);\n",
              "    fill: var(--disabled-fill-color);\n",
              "    box-shadow: none;\n",
              "  }\n",
              "\n",
              "  .colab-df-spinner {\n",
              "    border: 2px solid var(--fill-color);\n",
              "    border-color: transparent;\n",
              "    border-bottom-color: var(--fill-color);\n",
              "    animation:\n",
              "      spin 1s steps(1) infinite;\n",
              "  }\n",
              "\n",
              "  @keyframes spin {\n",
              "    0% {\n",
              "      border-color: transparent;\n",
              "      border-bottom-color: var(--fill-color);\n",
              "      border-left-color: var(--fill-color);\n",
              "    }\n",
              "    20% {\n",
              "      border-color: transparent;\n",
              "      border-left-color: var(--fill-color);\n",
              "      border-top-color: var(--fill-color);\n",
              "    }\n",
              "    30% {\n",
              "      border-color: transparent;\n",
              "      border-left-color: var(--fill-color);\n",
              "      border-top-color: var(--fill-color);\n",
              "      border-right-color: var(--fill-color);\n",
              "    }\n",
              "    40% {\n",
              "      border-color: transparent;\n",
              "      border-right-color: var(--fill-color);\n",
              "      border-top-color: var(--fill-color);\n",
              "    }\n",
              "    60% {\n",
              "      border-color: transparent;\n",
              "      border-right-color: var(--fill-color);\n",
              "    }\n",
              "    80% {\n",
              "      border-color: transparent;\n",
              "      border-right-color: var(--fill-color);\n",
              "      border-bottom-color: var(--fill-color);\n",
              "    }\n",
              "    90% {\n",
              "      border-color: transparent;\n",
              "      border-bottom-color: var(--fill-color);\n",
              "    }\n",
              "  }\n",
              "</style>\n",
              "\n",
              "  <script>\n",
              "    async function quickchart(key) {\n",
              "      const quickchartButtonEl =\n",
              "        document.querySelector('#' + key + ' button');\n",
              "      quickchartButtonEl.disabled = true;  // To prevent multiple clicks.\n",
              "      quickchartButtonEl.classList.add('colab-df-spinner');\n",
              "      try {\n",
              "        const charts = await google.colab.kernel.invokeFunction(\n",
              "            'suggestCharts', [key], {});\n",
              "      } catch (error) {\n",
              "        console.error('Error during call to suggestCharts:', error);\n",
              "      }\n",
              "      quickchartButtonEl.classList.remove('colab-df-spinner');\n",
              "      quickchartButtonEl.classList.add('colab-df-quickchart-complete');\n",
              "    }\n",
              "    (() => {\n",
              "      let quickchartButtonEl =\n",
              "        document.querySelector('#df-d37b5cd4-4ed0-4499-813f-08e7b88784ec button');\n",
              "      quickchartButtonEl.style.display =\n",
              "        google.colab.kernel.accessAllowed ? 'block' : 'none';\n",
              "    })();\n",
              "  </script>\n",
              "</div>\n",
              "\n",
              "    </div>\n",
              "  </div>\n"
            ],
            "application/vnd.google.colaboratory.intrinsic+json": {
              "type": "dataframe",
              "variable_name": "dataTraining",
              "summary": "{\n  \"name\": \"dataTraining\",\n  \"rows\": 7895,\n  \"fields\": [\n    {\n      \"column\": \"year\",\n      \"properties\": {\n        \"dtype\": \"number\",\n        \"std\": 22,\n        \"min\": 1894,\n        \"max\": 2015,\n        \"num_unique_values\": 106,\n        \"samples\": [\n          1910,\n          2001,\n          1990\n        ],\n        \"semantic_type\": \"\",\n        \"description\": \"\"\n      }\n    },\n    {\n      \"column\": \"title\",\n      \"properties\": {\n        \"dtype\": \"string\",\n        \"num_unique_values\": 7729,\n        \"samples\": [\n          \"Zero Effect\",\n          \"The Boogey Man\",\n          \"No Impact Man: The Documentary\"\n        ],\n        \"semantic_type\": \"\",\n        \"description\": \"\"\n      }\n    },\n    {\n      \"column\": \"plot\",\n      \"properties\": {\n        \"dtype\": \"string\",\n        \"num_unique_values\": 7894,\n        \"samples\": [\n          \"in an epic story of breathtaking scale ,  disneynature ' s new true life adventure  \\\" bears \\\"  showcases a year in the life of a bear family as two impressionable young cubs are taught life ' s most important lessons .  set against a majestic alaskan backdrop teeming with life ,  their journey begins as winter comes to an end and the bears emerge from hibernation to face the bitter cold .  the world outside is exciting - but risky - as the cubs '  playful descent down the mountain carries with it a looming threat of avalanches .  as the season changes from spring to summer ,  the brown bears must work hard to find food - ultimately feasting at a plentiful salmon run - while staying safe from rival male bears and predators ,  including an ever - present wolf .   \\\" bears \\\"  captures the fast - moving action and suspense of life in one of the planet ' s last great wildernesses - alaska !\",\n          \"during world war ii south sea beachcomber walter eckland is persuaded to spy on planes passing over his island .  he gets more than he bargained for as schoolteacher catherine frenau arrives on the run from the japanese with her pupils in tow !\",\n          \"robert neville is a scientist who was unable to stop the spread of the terrible virus that was incurable and man - made .  immune ,  neville is now the last human survivor in what is left of new york city and perhaps the world .  for three years ,  neville has faithfully sent out daily radio messages ,  desperate to find any other survivors who might be out there .  but he is not alone .  mutant victims of the plague  -  -  the infected  -  -  lurk in the shadows .  .  .  watching neville ' s every move .  .  .  waiting for him to make a fatal mistake .  perhaps mankind ' s last ,  best hope ,  neville is driven by only one remaining mission :  to find a way to reverse the effects of the virus using his own immune blood .  but he knows he is outnumbered .  .  .  and quickly running out of time .\"\n        ],\n        \"semantic_type\": \"\",\n        \"description\": \"\"\n      }\n    },\n    {\n      \"column\": \"genres\",\n      \"properties\": {\n        \"dtype\": \"category\",\n        \"num_unique_values\": 1336,\n        \"samples\": [\n          \"['Comedy', 'Drama', 'Family', 'Music']\",\n          \"['Comedy', 'Drama', 'Sci-Fi', 'War']\",\n          \"['Adventure', 'Comedy', 'Drama', 'Family', 'Sport']\"\n        ],\n        \"semantic_type\": \"\",\n        \"description\": \"\"\n      }\n    },\n    {\n      \"column\": \"rating\",\n      \"properties\": {\n        \"dtype\": \"number\",\n        \"std\": 1.0782600520106211,\n        \"min\": 1.2,\n        \"max\": 9.3,\n        \"num_unique_values\": 76,\n        \"samples\": [\n          6.6,\n          3.7,\n          4.6\n        ],\n        \"semantic_type\": \"\",\n        \"description\": \"\"\n      }\n    }\n  ]\n}"
            }
          },
          "metadata": {},
          "execution_count": 3
        }
      ],
      "source": [
        "dataTraining.head()"
      ]
    },
    {
      "cell_type": "code",
      "execution_count": 4,
      "metadata": {
        "colab": {
          "base_uri": "https://localhost:8080/",
          "height": 206
        },
        "id": "1ofD1zoGnx_v",
        "outputId": "a974fa5d-f410-4470-be92-cd7977236101"
      },
      "outputs": [
        {
          "output_type": "execute_result",
          "data": {
            "text/plain": [
              "   year                title  \\\n",
              "1  1999  Message in a Bottle   \n",
              "4  1978     Midnight Express   \n",
              "5  1996          Primal Fear   \n",
              "6  1950               Crisis   \n",
              "7  1959          The Tingler   \n",
              "\n",
              "                                                plot  \n",
              "1  who meets by fate ,  shall be sealed by fate ....  \n",
              "4  the true story of billy hayes ,  an american c...  \n",
              "5  martin vail left the chicago da ' s office to ...  \n",
              "6  husband and wife americans dr .  eugene and mr...  \n",
              "7  the coroner and scientist dr .  warren chapin ...  "
            ],
            "text/html": [
              "\n",
              "  <div id=\"df-17b29bb6-1d40-436a-8f21-920bb1ab32a2\" class=\"colab-df-container\">\n",
              "    <div>\n",
              "<style scoped>\n",
              "    .dataframe tbody tr th:only-of-type {\n",
              "        vertical-align: middle;\n",
              "    }\n",
              "\n",
              "    .dataframe tbody tr th {\n",
              "        vertical-align: top;\n",
              "    }\n",
              "\n",
              "    .dataframe thead th {\n",
              "        text-align: right;\n",
              "    }\n",
              "</style>\n",
              "<table border=\"1\" class=\"dataframe\">\n",
              "  <thead>\n",
              "    <tr style=\"text-align: right;\">\n",
              "      <th></th>\n",
              "      <th>year</th>\n",
              "      <th>title</th>\n",
              "      <th>plot</th>\n",
              "    </tr>\n",
              "  </thead>\n",
              "  <tbody>\n",
              "    <tr>\n",
              "      <th>1</th>\n",
              "      <td>1999</td>\n",
              "      <td>Message in a Bottle</td>\n",
              "      <td>who meets by fate ,  shall be sealed by fate ....</td>\n",
              "    </tr>\n",
              "    <tr>\n",
              "      <th>4</th>\n",
              "      <td>1978</td>\n",
              "      <td>Midnight Express</td>\n",
              "      <td>the true story of billy hayes ,  an american c...</td>\n",
              "    </tr>\n",
              "    <tr>\n",
              "      <th>5</th>\n",
              "      <td>1996</td>\n",
              "      <td>Primal Fear</td>\n",
              "      <td>martin vail left the chicago da ' s office to ...</td>\n",
              "    </tr>\n",
              "    <tr>\n",
              "      <th>6</th>\n",
              "      <td>1950</td>\n",
              "      <td>Crisis</td>\n",
              "      <td>husband and wife americans dr .  eugene and mr...</td>\n",
              "    </tr>\n",
              "    <tr>\n",
              "      <th>7</th>\n",
              "      <td>1959</td>\n",
              "      <td>The Tingler</td>\n",
              "      <td>the coroner and scientist dr .  warren chapin ...</td>\n",
              "    </tr>\n",
              "  </tbody>\n",
              "</table>\n",
              "</div>\n",
              "    <div class=\"colab-df-buttons\">\n",
              "\n",
              "  <div class=\"colab-df-container\">\n",
              "    <button class=\"colab-df-convert\" onclick=\"convertToInteractive('df-17b29bb6-1d40-436a-8f21-920bb1ab32a2')\"\n",
              "            title=\"Convert this dataframe to an interactive table.\"\n",
              "            style=\"display:none;\">\n",
              "\n",
              "  <svg xmlns=\"http://www.w3.org/2000/svg\" height=\"24px\" viewBox=\"0 -960 960 960\">\n",
              "    <path d=\"M120-120v-720h720v720H120Zm60-500h600v-160H180v160Zm220 220h160v-160H400v160Zm0 220h160v-160H400v160ZM180-400h160v-160H180v160Zm440 0h160v-160H620v160ZM180-180h160v-160H180v160Zm440 0h160v-160H620v160Z\"/>\n",
              "  </svg>\n",
              "    </button>\n",
              "\n",
              "  <style>\n",
              "    .colab-df-container {\n",
              "      display:flex;\n",
              "      gap: 12px;\n",
              "    }\n",
              "\n",
              "    .colab-df-convert {\n",
              "      background-color: #E8F0FE;\n",
              "      border: none;\n",
              "      border-radius: 50%;\n",
              "      cursor: pointer;\n",
              "      display: none;\n",
              "      fill: #1967D2;\n",
              "      height: 32px;\n",
              "      padding: 0 0 0 0;\n",
              "      width: 32px;\n",
              "    }\n",
              "\n",
              "    .colab-df-convert:hover {\n",
              "      background-color: #E2EBFA;\n",
              "      box-shadow: 0px 1px 2px rgba(60, 64, 67, 0.3), 0px 1px 3px 1px rgba(60, 64, 67, 0.15);\n",
              "      fill: #174EA6;\n",
              "    }\n",
              "\n",
              "    .colab-df-buttons div {\n",
              "      margin-bottom: 4px;\n",
              "    }\n",
              "\n",
              "    [theme=dark] .colab-df-convert {\n",
              "      background-color: #3B4455;\n",
              "      fill: #D2E3FC;\n",
              "    }\n",
              "\n",
              "    [theme=dark] .colab-df-convert:hover {\n",
              "      background-color: #434B5C;\n",
              "      box-shadow: 0px 1px 3px 1px rgba(0, 0, 0, 0.15);\n",
              "      filter: drop-shadow(0px 1px 2px rgba(0, 0, 0, 0.3));\n",
              "      fill: #FFFFFF;\n",
              "    }\n",
              "  </style>\n",
              "\n",
              "    <script>\n",
              "      const buttonEl =\n",
              "        document.querySelector('#df-17b29bb6-1d40-436a-8f21-920bb1ab32a2 button.colab-df-convert');\n",
              "      buttonEl.style.display =\n",
              "        google.colab.kernel.accessAllowed ? 'block' : 'none';\n",
              "\n",
              "      async function convertToInteractive(key) {\n",
              "        const element = document.querySelector('#df-17b29bb6-1d40-436a-8f21-920bb1ab32a2');\n",
              "        const dataTable =\n",
              "          await google.colab.kernel.invokeFunction('convertToInteractive',\n",
              "                                                    [key], {});\n",
              "        if (!dataTable) return;\n",
              "\n",
              "        const docLinkHtml = 'Like what you see? Visit the ' +\n",
              "          '<a target=\"_blank\" href=https://colab.research.google.com/notebooks/data_table.ipynb>data table notebook</a>'\n",
              "          + ' to learn more about interactive tables.';\n",
              "        element.innerHTML = '';\n",
              "        dataTable['output_type'] = 'display_data';\n",
              "        await google.colab.output.renderOutput(dataTable, element);\n",
              "        const docLink = document.createElement('div');\n",
              "        docLink.innerHTML = docLinkHtml;\n",
              "        element.appendChild(docLink);\n",
              "      }\n",
              "    </script>\n",
              "  </div>\n",
              "\n",
              "\n",
              "<div id=\"df-5e1940f2-5e6e-433e-aeed-997925fc29c0\">\n",
              "  <button class=\"colab-df-quickchart\" onclick=\"quickchart('df-5e1940f2-5e6e-433e-aeed-997925fc29c0')\"\n",
              "            title=\"Suggest charts\"\n",
              "            style=\"display:none;\">\n",
              "\n",
              "<svg xmlns=\"http://www.w3.org/2000/svg\" height=\"24px\"viewBox=\"0 0 24 24\"\n",
              "     width=\"24px\">\n",
              "    <g>\n",
              "        <path d=\"M19 3H5c-1.1 0-2 .9-2 2v14c0 1.1.9 2 2 2h14c1.1 0 2-.9 2-2V5c0-1.1-.9-2-2-2zM9 17H7v-7h2v7zm4 0h-2V7h2v10zm4 0h-2v-4h2v4z\"/>\n",
              "    </g>\n",
              "</svg>\n",
              "  </button>\n",
              "\n",
              "<style>\n",
              "  .colab-df-quickchart {\n",
              "      --bg-color: #E8F0FE;\n",
              "      --fill-color: #1967D2;\n",
              "      --hover-bg-color: #E2EBFA;\n",
              "      --hover-fill-color: #174EA6;\n",
              "      --disabled-fill-color: #AAA;\n",
              "      --disabled-bg-color: #DDD;\n",
              "  }\n",
              "\n",
              "  [theme=dark] .colab-df-quickchart {\n",
              "      --bg-color: #3B4455;\n",
              "      --fill-color: #D2E3FC;\n",
              "      --hover-bg-color: #434B5C;\n",
              "      --hover-fill-color: #FFFFFF;\n",
              "      --disabled-bg-color: #3B4455;\n",
              "      --disabled-fill-color: #666;\n",
              "  }\n",
              "\n",
              "  .colab-df-quickchart {\n",
              "    background-color: var(--bg-color);\n",
              "    border: none;\n",
              "    border-radius: 50%;\n",
              "    cursor: pointer;\n",
              "    display: none;\n",
              "    fill: var(--fill-color);\n",
              "    height: 32px;\n",
              "    padding: 0;\n",
              "    width: 32px;\n",
              "  }\n",
              "\n",
              "  .colab-df-quickchart:hover {\n",
              "    background-color: var(--hover-bg-color);\n",
              "    box-shadow: 0 1px 2px rgba(60, 64, 67, 0.3), 0 1px 3px 1px rgba(60, 64, 67, 0.15);\n",
              "    fill: var(--button-hover-fill-color);\n",
              "  }\n",
              "\n",
              "  .colab-df-quickchart-complete:disabled,\n",
              "  .colab-df-quickchart-complete:disabled:hover {\n",
              "    background-color: var(--disabled-bg-color);\n",
              "    fill: var(--disabled-fill-color);\n",
              "    box-shadow: none;\n",
              "  }\n",
              "\n",
              "  .colab-df-spinner {\n",
              "    border: 2px solid var(--fill-color);\n",
              "    border-color: transparent;\n",
              "    border-bottom-color: var(--fill-color);\n",
              "    animation:\n",
              "      spin 1s steps(1) infinite;\n",
              "  }\n",
              "\n",
              "  @keyframes spin {\n",
              "    0% {\n",
              "      border-color: transparent;\n",
              "      border-bottom-color: var(--fill-color);\n",
              "      border-left-color: var(--fill-color);\n",
              "    }\n",
              "    20% {\n",
              "      border-color: transparent;\n",
              "      border-left-color: var(--fill-color);\n",
              "      border-top-color: var(--fill-color);\n",
              "    }\n",
              "    30% {\n",
              "      border-color: transparent;\n",
              "      border-left-color: var(--fill-color);\n",
              "      border-top-color: var(--fill-color);\n",
              "      border-right-color: var(--fill-color);\n",
              "    }\n",
              "    40% {\n",
              "      border-color: transparent;\n",
              "      border-right-color: var(--fill-color);\n",
              "      border-top-color: var(--fill-color);\n",
              "    }\n",
              "    60% {\n",
              "      border-color: transparent;\n",
              "      border-right-color: var(--fill-color);\n",
              "    }\n",
              "    80% {\n",
              "      border-color: transparent;\n",
              "      border-right-color: var(--fill-color);\n",
              "      border-bottom-color: var(--fill-color);\n",
              "    }\n",
              "    90% {\n",
              "      border-color: transparent;\n",
              "      border-bottom-color: var(--fill-color);\n",
              "    }\n",
              "  }\n",
              "</style>\n",
              "\n",
              "  <script>\n",
              "    async function quickchart(key) {\n",
              "      const quickchartButtonEl =\n",
              "        document.querySelector('#' + key + ' button');\n",
              "      quickchartButtonEl.disabled = true;  // To prevent multiple clicks.\n",
              "      quickchartButtonEl.classList.add('colab-df-spinner');\n",
              "      try {\n",
              "        const charts = await google.colab.kernel.invokeFunction(\n",
              "            'suggestCharts', [key], {});\n",
              "      } catch (error) {\n",
              "        console.error('Error during call to suggestCharts:', error);\n",
              "      }\n",
              "      quickchartButtonEl.classList.remove('colab-df-spinner');\n",
              "      quickchartButtonEl.classList.add('colab-df-quickchart-complete');\n",
              "    }\n",
              "    (() => {\n",
              "      let quickchartButtonEl =\n",
              "        document.querySelector('#df-5e1940f2-5e6e-433e-aeed-997925fc29c0 button');\n",
              "      quickchartButtonEl.style.display =\n",
              "        google.colab.kernel.accessAllowed ? 'block' : 'none';\n",
              "    })();\n",
              "  </script>\n",
              "</div>\n",
              "\n",
              "    </div>\n",
              "  </div>\n"
            ],
            "application/vnd.google.colaboratory.intrinsic+json": {
              "type": "dataframe",
              "variable_name": "dataTesting",
              "summary": "{\n  \"name\": \"dataTesting\",\n  \"rows\": 3383,\n  \"fields\": [\n    {\n      \"column\": \"year\",\n      \"properties\": {\n        \"dtype\": \"number\",\n        \"std\": 22,\n        \"min\": 1893,\n        \"max\": 2015,\n        \"num_unique_values\": 104,\n        \"samples\": [\n          1940,\n          1954,\n          1989\n        ],\n        \"semantic_type\": \"\",\n        \"description\": \"\"\n      }\n    },\n    {\n      \"column\": \"title\",\n      \"properties\": {\n        \"dtype\": \"string\",\n        \"num_unique_values\": 3352,\n        \"samples\": [\n          \"Humanoids from the Deep\",\n          \"Rookie of the Year\",\n          \"S.F.W.\"\n        ],\n        \"semantic_type\": \"\",\n        \"description\": \"\"\n      }\n    },\n    {\n      \"column\": \"plot\",\n      \"properties\": {\n        \"dtype\": \"string\",\n        \"num_unique_values\": 3383,\n        \"samples\": [\n          \"in las vegas ,  the regenerated ex - con jack bruno works as taxi driver .  during an ufo convention at planet hollywood ,  the skeptical jack picks up dr .  alex friedman ,  who will present a scientific lecture in the event .  then he is pressed by two henchmen of his former boss ,  the criminal wolff ,  that wants to talk to him ,  but jack does not want to return to the crime life .  jack fights and gets rid of them ;  out of the blue ,  he finds two teenagers on the backseat of his cab .  they tell that they are siblings ,  sara and seth ,  and they need to travel to a location outside las vegas in the middle of nowhere .  meanwhile the government finds a spacecraft that crashed nearby las vegas and is chasing the two aliens ;  after the investigation of the men of major henry burke ,  they discover that the two siblings are the aliens .  jack bruno ,  sara and seth are chased by henry burke ' s team and by the  \\\" syphon \\\"  ,  a killer from outer space that has been sent to kill them by the military of their planet that want to invade earth .  sara and seth explain that they traveled to earth to collect scientific data of an experiment and save earth from invasion ,  but they need to return immediately to their planet .  jack teams up with dr .  alex to retrieve their spacecraft in a secret base in the witch mountain .\",\n          \"henry is a young fbi agent .  during a three - year absence from his home in shreveport ,  his mother marty loses more than  N  pounds ,  looks great ,  and to henry ' s embarrassment ,  has become a party animal .  within a day of henry ' s returning home with his fianc\\u00e9e ,  emily ,  who ' s an fbi profiler ,  marty meets tommy ,  a suave foreigner .  he ' s posing as a consultant ,  but he ' s an international art thief ,  in town to steal  \\\" mother and son ,  \\\"  a bernini sculpture .  henry is detailed to head a team keeping his mom ' s new boyfriend under surveillance .  love ,  law enforcement ,  and filial devotion are set to collide .\",\n          \"fred chaney is a simple minded man whose mother died .  she leaves him half of the brokerage company she owned with her second husband ,  walker ,  whom fred catches with another woman following his mother ' s death .  he also throws fred out of the house .  and tries to buy his share of the business for low sum .  fred is also left a horse named don .  and fred learns don can talk .  fred sends don back to his family .  fred starts working at the company and is not doing well .  but don hears of deal and informs fred about it and he buys the stock and makes a fortune .  don goes back to fred and moves in with him and continues to gives him tips which helps him make him rich .  walker tries to find out how he is doing this so he sends hi secretary to find out and she finds herself falling for fred .\"\n        ],\n        \"semantic_type\": \"\",\n        \"description\": \"\"\n      }\n    }\n  ]\n}"
            }
          },
          "metadata": {},
          "execution_count": 4
        }
      ],
      "source": [
        "dataTesting.head()"
      ]
    },
    {
      "cell_type": "code",
      "source": [
        "import re\n",
        "special_char_pattern = re.compile(r'[^a-zA-Z0-9\\s]')"
      ],
      "metadata": {
        "id": "e7BhSSbfTb8j"
      },
      "execution_count": 5,
      "outputs": []
    },
    {
      "cell_type": "code",
      "source": [
        "# Revisar los valores nulos\n",
        "dataTraining.replace('', np.nan, inplace=True)\n",
        "\n",
        "# Lista de columnas a revisar\n",
        "columns_to_check = ['plot', 'genres','year','title']\n",
        "\n",
        "#  Iterar sobre cada columna y contar los valores nulos\n",
        "for column in columns_to_check:\n",
        "    # Contar los valores nulos en la columna\n",
        "    missing_count = dataTraining[column].isnull().sum()\n",
        "    print(f'Número de datos faltantes en {column}: {missing_count}')"
      ],
      "metadata": {
        "colab": {
          "base_uri": "https://localhost:8080/"
        },
        "id": "-LLpYQ9dTb6T",
        "outputId": "978196f1-eba7-4642-cd95-f43197354e1e"
      },
      "execution_count": 6,
      "outputs": [
        {
          "output_type": "stream",
          "name": "stdout",
          "text": [
            "Número de datos faltantes en plot: 0\n",
            "Número de datos faltantes en genres: 0\n",
            "Número de datos faltantes en year: 0\n",
            "Número de datos faltantes en title: 0\n"
          ]
        }
      ]
    },
    {
      "cell_type": "code",
      "source": [
        "from collections import Counter\n",
        "\n",
        "# Extraer todos los caracteres especiales encontrados en la columna 'genres'\n",
        "all_special_characters_text_id = ''.join(dataTraining['plot'].apply(lambda x: ''.join(special_char_pattern.findall(x))))\n",
        "\n",
        "# Contar la frecuencia de cada caracter especial\n",
        "special_character_frequencies_text_id = Counter(all_special_characters_text_id)\n",
        "\n",
        "special_character_frequencies_text_id"
      ],
      "metadata": {
        "colab": {
          "base_uri": "https://localhost:8080/"
        },
        "id": "kEuTGPbPTb4B",
        "outputId": "571dfb04-2734-4798-d129-7ad9599ada1a"
      },
      "execution_count": 7,
      "outputs": [
        {
          "output_type": "execute_result",
          "data": {
            "text/plain": [
              "Counter({'-': 10466,\n",
              "         '.': 46614,\n",
              "         ',': 57327,\n",
              "         \"'\": 15571,\n",
              "         '\"': 4776,\n",
              "         '?': 1136,\n",
              "         '(': 2072,\n",
              "         ')': 2059,\n",
              "         '!': 350,\n",
              "         ':': 1112,\n",
              "         '$': 246,\n",
              "         'ï': 5,\n",
              "         ';': 1202,\n",
              "         '/': 318,\n",
              "         'é': 320,\n",
              "         '£': 7,\n",
              "         '%': 20,\n",
              "         'è': 23,\n",
              "         '&': 137,\n",
              "         'ʼ': 1,\n",
              "         'ç': 9,\n",
              "         'ú': 6,\n",
              "         '¹': 2,\n",
              "         'û': 2,\n",
              "         'ö': 6,\n",
              "         'â': 3,\n",
              "         'ñ': 6,\n",
              "         '¡': 1,\n",
              "         'ê': 3,\n",
              "         '®': 2,\n",
              "         'í': 2,\n",
              "         'ä': 2,\n",
              "         'ø': 2,\n",
              "         '=': 3,\n",
              "         'ó': 4,\n",
              "         'á': 5,\n",
              "         'ë': 2,\n",
              "         '½': 1,\n",
              "         'ô': 3,\n",
              "         'å': 1,\n",
              "         'ò': 5,\n",
              "         'à': 13,\n",
              "         'ù': 5,\n",
              "         '°': 1,\n",
              "         'ü': 2})"
            ]
          },
          "metadata": {},
          "execution_count": 7
        }
      ]
    },
    {
      "cell_type": "code",
      "source": [
        "from collections import defaultdict\n",
        "import re\n",
        "\n",
        "text_column = dataTraining['plot']\n",
        "\n",
        "# Definir un patrón de regex para buscar caracteres que no sean alfanuméricos ni espacios básicos\n",
        "special_char_pattern = re.compile(r'[^a-zA-Z0-9\\s]')\n",
        "\n",
        "# Diccionario para almacenar hasta 5 ejemplos por cada carácter especial encontrado\n",
        "examples_per_special_char = defaultdict(list)\n",
        "\n",
        "# Recorrer cada texto en la columna 'Text'\n",
        "for text in text_column:\n",
        "    # Encontrar todos los caracteres especiales únicos en el texto actual\n",
        "    unique_special_chars = set(special_char_pattern.findall(text))\n",
        "    # Para cada carácter especial encontrado, agregar el texto actual como un ejemplo\n",
        "    for char in unique_special_chars:\n",
        "        if len(examples_per_special_char[char]) < 1:\n",
        "            examples_per_special_char[char].append(text)\n",
        "\n",
        "# Convertir el diccionario a un formato más legible para la presentación\n",
        "{char: examples[:2] for char, examples in examples_per_special_char.items()}"
      ],
      "metadata": {
        "colab": {
          "base_uri": "https://localhost:8080/"
        },
        "id": "XjAIpq_WW-W-",
        "outputId": "cca9dfe3-db36-4def-99aa-53d1ca848611"
      },
      "execution_count": 8,
      "outputs": [
        {
          "output_type": "execute_result",
          "data": {
            "text/plain": [
              "{'-': ['most is the story of a single father who takes his eight year - old son to work with him at the railroad drawbridge where he is the bridge tender .  a day before ,  the boy meets a woman boarding a train ,  a drug abuser .  at the bridge ,  the father goes into the engine room ,  and tells his son to stay at the edge of the nearby lake .  a ship comes ,  and the bridge is lifted .  though it is supposed to arrive an hour later ,  the train happens to arrive .  the son sees this ,  and tries to warn his father ,  who is not able to see this .  just as the oncoming train approaches ,  his son falls into the drawbridge gear works while attempting to lower the bridge ,  leaving the father with a horrific choice .  the father then lowers the bridge ,  the gears crushing the boy .  the people in the train are completely oblivious to the fact a boy died trying to save them ,  other than the drug addict woman ,  who happened to look out her train window .  the movie ends ,  with the man wandering a new city ,  and meets the woman ,  no longer a drug addict ,  holding a small baby .  other relevant narratives run in parallel ,  namely one of the female drug - addict ,  and they all meet at the climax of this tumultuous film .'],\n",
              " ',': ['most is the story of a single father who takes his eight year - old son to work with him at the railroad drawbridge where he is the bridge tender .  a day before ,  the boy meets a woman boarding a train ,  a drug abuser .  at the bridge ,  the father goes into the engine room ,  and tells his son to stay at the edge of the nearby lake .  a ship comes ,  and the bridge is lifted .  though it is supposed to arrive an hour later ,  the train happens to arrive .  the son sees this ,  and tries to warn his father ,  who is not able to see this .  just as the oncoming train approaches ,  his son falls into the drawbridge gear works while attempting to lower the bridge ,  leaving the father with a horrific choice .  the father then lowers the bridge ,  the gears crushing the boy .  the people in the train are completely oblivious to the fact a boy died trying to save them ,  other than the drug addict woman ,  who happened to look out her train window .  the movie ends ,  with the man wandering a new city ,  and meets the woman ,  no longer a drug addict ,  holding a small baby .  other relevant narratives run in parallel ,  namely one of the female drug - addict ,  and they all meet at the climax of this tumultuous film .'],\n",
              " '.': ['most is the story of a single father who takes his eight year - old son to work with him at the railroad drawbridge where he is the bridge tender .  a day before ,  the boy meets a woman boarding a train ,  a drug abuser .  at the bridge ,  the father goes into the engine room ,  and tells his son to stay at the edge of the nearby lake .  a ship comes ,  and the bridge is lifted .  though it is supposed to arrive an hour later ,  the train happens to arrive .  the son sees this ,  and tries to warn his father ,  who is not able to see this .  just as the oncoming train approaches ,  his son falls into the drawbridge gear works while attempting to lower the bridge ,  leaving the father with a horrific choice .  the father then lowers the bridge ,  the gears crushing the boy .  the people in the train are completely oblivious to the fact a boy died trying to save them ,  other than the drug addict woman ,  who happened to look out her train window .  the movie ends ,  with the man wandering a new city ,  and meets the woman ,  no longer a drug addict ,  holding a small baby .  other relevant narratives run in parallel ,  namely one of the female drug - addict ,  and they all meet at the climax of this tumultuous film .'],\n",
              " '\"': ['in a friday afternoon in new york ,  the president of the tredway corporation avery bullard has just had a meeting with investment bankers and sends a telegram scheduling a meeting at the furniture factory in millburgh ,  pennsylvania ,  at six pm with his executives .  bullard has never appointed an executive vice - president for the corporation after the death of the previous one but when he is getting a taxi ,  he has a stroke and dies on the street .  a thief steals his wallet to get his money and his body goes to the morgue without identification .  the investment banker george nyle caswell sees bullard \\' s body from his window and decides to use the information to make money ,  asking a broker to sell as much tredway stocks as possible until the end of the day ,  with the intention of buying them back monday morning by a lower price making profit .  meanwhile the executives unsuccessfully wait for bullard in the meeting room .  when they learn that bullard is dead ,  the ambitions accountant vp and controller loren phineas shaw releases to the press the balance of tredway showing profit and assumes temporarily the leadership of the company ,  expecting to be elected the next president by the seven - member board .  however ,  the vp for design and development mcdonald  \" don \"  walling and the vp and treasurer frederick y .  alderson oppose to shaw .  there is a struggle in the corporation for the position of president and shaw blackmails the vp for sales josiah walter dudley that is married and has a mistress ,  his secretary eva bardeman ,  to get his vote .  caswell needs to cover the  N  ,  N  stocks he sold and shaw promises to give to him the stocks for the price he sold if he is elected president .  the vp for manufacturing jesse q .  grimm is near to retire but is a close friend of frederick and supports him .  therefore the heir of tredway and bullard \\' s mistress julia o .  tredway will be responsible to give the casting vote .  but she is disenchanted with the corporation .  who will be elected the next president ?'],\n",
              " \"'\": ['in a friday afternoon in new york ,  the president of the tredway corporation avery bullard has just had a meeting with investment bankers and sends a telegram scheduling a meeting at the furniture factory in millburgh ,  pennsylvania ,  at six pm with his executives .  bullard has never appointed an executive vice - president for the corporation after the death of the previous one but when he is getting a taxi ,  he has a stroke and dies on the street .  a thief steals his wallet to get his money and his body goes to the morgue without identification .  the investment banker george nyle caswell sees bullard \\' s body from his window and decides to use the information to make money ,  asking a broker to sell as much tredway stocks as possible until the end of the day ,  with the intention of buying them back monday morning by a lower price making profit .  meanwhile the executives unsuccessfully wait for bullard in the meeting room .  when they learn that bullard is dead ,  the ambitions accountant vp and controller loren phineas shaw releases to the press the balance of tredway showing profit and assumes temporarily the leadership of the company ,  expecting to be elected the next president by the seven - member board .  however ,  the vp for design and development mcdonald  \" don \"  walling and the vp and treasurer frederick y .  alderson oppose to shaw .  there is a struggle in the corporation for the position of president and shaw blackmails the vp for sales josiah walter dudley that is married and has a mistress ,  his secretary eva bardeman ,  to get his vote .  caswell needs to cover the  N  ,  N  stocks he sold and shaw promises to give to him the stocks for the price he sold if he is elected president .  the vp for manufacturing jesse q .  grimm is near to retire but is a close friend of frederick and supports him .  therefore the heir of tredway and bullard \\' s mistress julia o .  tredway will be responsible to give the casting vote .  but she is disenchanted with the corporation .  who will be elected the next president ?'],\n",
              " '?': ['in a friday afternoon in new york ,  the president of the tredway corporation avery bullard has just had a meeting with investment bankers and sends a telegram scheduling a meeting at the furniture factory in millburgh ,  pennsylvania ,  at six pm with his executives .  bullard has never appointed an executive vice - president for the corporation after the death of the previous one but when he is getting a taxi ,  he has a stroke and dies on the street .  a thief steals his wallet to get his money and his body goes to the morgue without identification .  the investment banker george nyle caswell sees bullard \\' s body from his window and decides to use the information to make money ,  asking a broker to sell as much tredway stocks as possible until the end of the day ,  with the intention of buying them back monday morning by a lower price making profit .  meanwhile the executives unsuccessfully wait for bullard in the meeting room .  when they learn that bullard is dead ,  the ambitions accountant vp and controller loren phineas shaw releases to the press the balance of tredway showing profit and assumes temporarily the leadership of the company ,  expecting to be elected the next president by the seven - member board .  however ,  the vp for design and development mcdonald  \" don \"  walling and the vp and treasurer frederick y .  alderson oppose to shaw .  there is a struggle in the corporation for the position of president and shaw blackmails the vp for sales josiah walter dudley that is married and has a mistress ,  his secretary eva bardeman ,  to get his vote .  caswell needs to cover the  N  ,  N  stocks he sold and shaw promises to give to him the stocks for the price he sold if he is elected president .  the vp for manufacturing jesse q .  grimm is near to retire but is a close friend of frederick and supports him .  therefore the heir of tredway and bullard \\' s mistress julia o .  tredway will be responsible to give the casting vote .  but she is disenchanted with the corporation .  who will be elected the next president ?'],\n",
              " '(': [\"roy munson was raised to be the best bowler in the world  ( trained early on by his father )  .  but a fellow bowler ,  ernie mccracken and a misunderstanding with some rough punks ,  leaves poor roy with the loss of his bowling hand !  not to let this get him down ,  he gets a prosthetic hand and becomes a travelling sales man .  but it ' s really all down hill for him from that night on until  .  .  .  one day he meets ishmael who is amish and sneaks away from the farm to bowl  ( his fellow amish would disown him if they knew )  !  roy convinces ishmael to let him be his trainer and he ' ll make him the best bowler the world has ever seen .  reluctantly ishmael agrees to go on the road and shortly afterwards actually finds that life outside the farm is quite fun .  soon their paths cross that of ernie mccracken who is still a top ranking bowler .  while roy ' s career and life have landed in the toilet bowl ,  ernie is still drawing huge crowds and all the babes !  they both square off for the ultimate bowling championship  .  .  .  to see which one truly is the champion .\"],\n",
              " '!': [\"roy munson was raised to be the best bowler in the world  ( trained early on by his father )  .  but a fellow bowler ,  ernie mccracken and a misunderstanding with some rough punks ,  leaves poor roy with the loss of his bowling hand !  not to let this get him down ,  he gets a prosthetic hand and becomes a travelling sales man .  but it ' s really all down hill for him from that night on until  .  .  .  one day he meets ishmael who is amish and sneaks away from the farm to bowl  ( his fellow amish would disown him if they knew )  !  roy convinces ishmael to let him be his trainer and he ' ll make him the best bowler the world has ever seen .  reluctantly ishmael agrees to go on the road and shortly afterwards actually finds that life outside the farm is quite fun .  soon their paths cross that of ernie mccracken who is still a top ranking bowler .  while roy ' s career and life have landed in the toilet bowl ,  ernie is still drawing huge crowds and all the babes !  they both square off for the ultimate bowling championship  .  .  .  to see which one truly is the champion .\"],\n",
              " ')': [\"roy munson was raised to be the best bowler in the world  ( trained early on by his father )  .  but a fellow bowler ,  ernie mccracken and a misunderstanding with some rough punks ,  leaves poor roy with the loss of his bowling hand !  not to let this get him down ,  he gets a prosthetic hand and becomes a travelling sales man .  but it ' s really all down hill for him from that night on until  .  .  .  one day he meets ishmael who is amish and sneaks away from the farm to bowl  ( his fellow amish would disown him if they knew )  !  roy convinces ishmael to let him be his trainer and he ' ll make him the best bowler the world has ever seen .  reluctantly ishmael agrees to go on the road and shortly afterwards actually finds that life outside the farm is quite fun .  soon their paths cross that of ernie mccracken who is still a top ranking bowler .  while roy ' s career and life have landed in the toilet bowl ,  ernie is still drawing huge crowds and all the babes !  they both square off for the ultimate bowling championship  .  .  .  to see which one truly is the champion .\"],\n",
              " ':': [\"four guys ,  one camera ,  and their experience chronicling the exhilarating and terrifying rite of passage :  losing your virginity .  as these guys help their buddy get laid ,  they ' ll have to survive friends with benefits ,  internet hookups ,  even porn stars during an adventure that proves why you will always remember your first .\"],\n",
              " '$': ['living in greenwich village ,  tepper is a pretty stand - up kind of guy .  as a stand - up guy ,  he helps his elderly neighbor ,  mrs .  darmsetter ,  whenever he can .  he also keeps the vow with his poker playing friends fish ,  bolan and quigley that they will not check the winning numbers against the big  N  lotto tickets they ante in their  \" last man standing \"  five card draw poker games ,   \" the last man standing \"  taking the entire pot of tickets .  being a stand - up guy is one of the reasons why his girlfriend carla loves him .  on the night that he plans to propose to carla ,  but not before the regular poker night at his apartment ,  he finds a wallet on the street with no money and little identification in it ,  let alone no photo id ,  but he still goes to whatever measures he can to locate the wallet \\' s owner ,  who ,  according to the sole piece of id ,  is a fireman named avery phillips .  just before his friends and avery arrive at his apartment ,  tepper also finds in the wallet a big  N  lotto ticket ,  a $ N  million winning ticket for the draw that just happened that night ,  he having checked the numbers against their vow .  he goes through mixed emotions about what to do ,  the money which would set him and carla up for their lives .  having switched his own ticket with avery \\' s by the time his friends and avery arrive ,  tepper ends up out of necessity spending much of the night with the four ,  with his guilt sometimes getting the better of him .  avery \\' s suspicious behavior also leads tepper to believe that he may not be everything he appears on the surface ,  especially as the police are on the lookout in the neighborhood for a suspect of an undisclosed nature .  others may factor into what happens between tepper ,  avery and the $ N  million ticket .  .  .'],\n",
              " 'ï': [\"out in california ' s san fernando valley ,  isabel is trying to reinvent herself .  a naïve ,  good - natured witch ,  she is determined to disavow her supernatural powers and lead a normal life .  at the same time ,  across town ,  jack wyatt a tall ,  charming actor is trying to get his career back on track .  he sets his sights on an updated version of the beloved  N s situation comedy bewitched ,  re - conceived as a starring vehicle for himself in the role of the mere - mortal darrin .  fate steps in when jack accidentally runs into isabel .  he is immediately attracted to her and her nose ,  which bears an uncanny resemblance to the nose of elizabeth montgomery ,  who played samantha in the original tv version of bewitched .  he becomes convinced she could play the witch samantha in his new series .  isabel is also taken with jack ,  seeing him as the quintessential mortal man with whom she can settle down and lead the normal life she so desires .  it turns out they ' re both right -  - but in ways neither of them ever imagined .\"],\n",
              " ';': [\"the wolf taylor worth is a handsome man that is the weatherman in television .  he has a great salary ,  a bmw ,  a fantastic apartment and a countryside house and has no difficulties to win the girls over .  one day ,  his best friend and psychologist ned broudy ,  who is married with claire broudy with a three year - old girl ,  proposes a bet to taylor :  his countryside house per claire ' s picasso .  taylor shall propose three women chosen by ned and they must say yes to him .  ned chooses the sexy fan of american football erin cooper ,  who is always surrounded by her friend tarry childs and other football players ;  his wealthy friend eleanor larimore ,  who is unhappily married ;  and his demanding and intellectual friend ,  the classical pianist veronica briskow .  taylor accepts the bet ,  but when he wins ,  he calls it off since he is in love and proposed for real one of the selected women .  what will happen when the other two women discover the truth ?\"],\n",
              " '/': [\"mild mannered jack dawn has been secretly working as an accountant for the mob .  he ,  his puerto rican wife jeri ,  his teen - aged daughter joan and his mother - in - law ,  all who were planning on going on the run ,  are murdered by the mob because jack was going to inform on them to the fbi .  before they ' re killed ,  jack and jeri are able to send their six - year old son phil to jeri ' s friend and their neighbor ,  gloria swenson ,  for safe keeping .  also with phil is the book which contains all the information jack was going to turn over .  gloria and phil have an antagonistic relationship ,  not so much for who they are but what they are ,  phil a kid ,  and gloria a strange white woman who hates kids .  as an ex - mistress of a mobster ,  gloria learns that the people that killed the dawns are old friends of hers .  as gloria and phil go on the run both from the mob and from the authorities  ( who believe she kidnapped phil )  throughout new york city ,  gloria has to come up with a plan on how best to save themselves ,  which is not easy because of their love / hate relationship and the fact that precocious phil has a mind of his own .  that plan includes what to do with the book ,  but more importantly how to save phil as the mob would still be after him regardless of the book just in case he knows something about his father ' s dealings .  all through their ordeal ,  gloria is not averse to shooting to kill ,  especially if those who she is trying to kill are trying to kill her and phil first .\"],\n",
              " 'é': [\"this new version of the saga of cia analyst jack ryan begins as jack attends the london school of economics .   N  /  N  happens .  he subsequently enlists in the marines ,  sustaining severe injuries when the chopper deploying him to afghanistan is shot down .  while in intense rehab ,  he grabs the attention of harper ,  a man who works for the cia and who would like jack to finish his studies ,  get a job on wall street ,  and seek out terrorist plots through their financial transactions .  ten years pass .  jack finds anomalies in the accounts of a russian named cherevin and thinks he should go to russia to check out what ' s going on .  he ' s told not to tell anyone who he is ,  including his girlfriend cathy ,  which makes her doubt him when she catches him in some lies .  in russia ,  cherevin assigns someone to assist jack ,  but when the two are alone ,  the man tries to kill jack instead ,  so jack kills him .  obviously ,  cherevin is hiding something .  jack goes to meet him and says he ' ll bring his fiancée along ,  but when cathy shows up ,  jack has to tell her the truth .  harper says cathy has to go with jack when she meets cherevin .  jack doesn ' t want her to but cathy says she ' s going ,  so the action begins that leads to the climax .\"],\n",
              " '£': [\"in london ,  george thomason ,  his seductive american girlfriend wanda gershwitz ,  and their associate ken pile are planning their latest crime ,  a diamond heist that should net them £ N  million .  they plan on leaving the country with the goods after the heist .  on wanda ' s recommendation ,  they enlist the help of her brother ,  otto ,  a weapons expert ,  for this heist .  in reality ,  otto is not wanda ' s brother ,  but her latest lover ,  a dimwit who gets off on his own body odor ,  who believes he ' s an intellectual because he reads nietzsche ,  and who does not tolerate being called stupid by anyone .  wanda has one weakness in men which is how otto was able to get her to be his lover :  speaking italian in seduction .  wanda and otto plan to double cross george by having him arrested for the heist ,  while they abscond with the jewels .  wanda further plans to triple cross otto by eliminating him from the picture after she has the jewels .  they are able to get george arrested with him not knowing who tipped the police off ,  in the process george being implicated by an elderly eyewitness named eileen coady .  with george in jail ,  wanda and otto discover that he in turn has protected his investment by moving the jewels from their agreed to hiding location ,  he not telling anyone except ken some hint of where they are .  ken ,  an animal lover with an extreme stuttering problem ,  is given a task by george :  kill mrs .  coady before she is able to testify against him ,  as she is the crown ' s primary witness .  meanwhile ,  wanda has a plan of her own to reach her end goal :  seduce george ' s defense lawyer ,  archie leach ,  in finding out any and all of george ' s secrets concerning the heist ,  including the location of the jewels .  archie may be easy prey for wanda ' s seduction as archie ' s wife is a self - absorbed woman who pays archie little attention .  otto may throw a wrench into wanda ' s plans if he finds out what she ' s doing only feeling that she being solely his lover trumps all else .\"],\n",
              " '%': ['in  N  ,  solar storms have killed  N  .  N  % of the world \\' s population and only  N  million people survive .  the roc corporation has designed and built robots called automata pilgrim  N  to help to rebuild the world .  these robots have two security protocols ;  they can neither harm humans nor alter themselves or other robots .  when police officer sean wallace shoots a robot and claims that it was altering itself ,  roc insurance agent jacq vaucan is placed in charge of the investigation .  soon he believes that there is a  \" clocksmith \"  illegally modifying the robots .  jacq wants to live in the coast and asks his boss and friend robert bold to transfer him with his pregnant wife rachel vaucan to the coast .  robert offers the possibility if jacq resolves the case .  jacq and wallace go to a brothel where the modified robot cleo attends and wallace shoots its leg ,  expecting that the owner will lead them to the clocksmith .  they meet duprè but she is not the clocksmith that is modifying the robots .  soon jacq discovers who is the responsible for modifying the robots but the powers that be in roc believe that jacq is the one to be blamed .'],\n",
              " 'è': ['in  N  ,  solar storms have killed  N  .  N  % of the world \\' s population and only  N  million people survive .  the roc corporation has designed and built robots called automata pilgrim  N  to help to rebuild the world .  these robots have two security protocols ;  they can neither harm humans nor alter themselves or other robots .  when police officer sean wallace shoots a robot and claims that it was altering itself ,  roc insurance agent jacq vaucan is placed in charge of the investigation .  soon he believes that there is a  \" clocksmith \"  illegally modifying the robots .  jacq wants to live in the coast and asks his boss and friend robert bold to transfer him with his pregnant wife rachel vaucan to the coast .  robert offers the possibility if jacq resolves the case .  jacq and wallace go to a brothel where the modified robot cleo attends and wallace shoots its leg ,  expecting that the owner will lead them to the clocksmith .  they meet duprè but she is not the clocksmith that is modifying the robots .  soon jacq discovers who is the responsible for modifying the robots but the powers that be in roc believe that jacq is the one to be blamed .'],\n",
              " '&': [\"valentino is an ex adult film star very much in love with his girlfriend mary carmen .  .  .  . and boyfriend gary .  things take a tragic turn when valentino is rushed to the hospital after collapsing on a city street and is diagnosed with hiv / aids .  .  . forcing mary carmen and gary to push aside their jealousy & differences to take care of the man they both love while he is dying .  ultimately finding comfort ,  understanding ,  and strength in the other .  a beautiful modern love story with a fantastic cast .  vincent d ' onofrio is very charismatic ,  charming ,  and intense as valentino .  .  .  .  .\"],\n",
              " 'ʼ': ['one night in los angeles ,  adrian grenier ,  star of the hbo series  \" entourage ,  \"  encountered  N  - year - old paparazzo austin visschedyk .  astounded and inspired by the fast - talking ,  faster - snapping teen ,  grenier decided to turn the cameras on visschedyk in an effort to better understand this unique teenagerʼs world and gain insight into what motivates people to stalk the famous .'],\n",
              " 'ç': [\"fifteen years after his father ' s experiments with matter transmission fail ,  philippe delambre and his uncle françois attempt to create a matter transmission device on their own .  however ,  their experiments have disastrous results ,  turning philippe into a horrible half - man ,  half - fly creature .\"],\n",
              " 'ú': [\"in  N  ,  twenty - three year old medical student ernesto guevara de la serna  -  fuser to his friends and later better known as  ' ernesto che guevara '   -  one semester away from graduation ,  decides to postpone his last semester to accompany his twenty - nine year old biochemist friend  ' alberto granado '   -  mial to his friends  -  on his four month ,   N  ,  N  km long dream motorcycle trip throughout south america starting from their home in buenos aires .  their quest is to see things they ' ve only read about in books about the continent on which they live ,  and to finish that quest on alberto ' s thirtieth birthday on the other side of the continent in the guajira peninsula in venezuela .  not all on this trip goes according to their rough plan due to a broken down motorbike ,  a continual lack of money  ( they often stretching the truth to gain the favor of a variety of strangers to help them )  ,  arguments between the two in their frequent isolation solely with each other ,  their raging libidos which sometimes get them into trouble ,  and dealing with fuser ' s chronic asthma .  but a chance encounter with a couple of communists in the chilean desert and an extended visit to the san pablo leper colony in the perúvian amazon basin among other things profoundly affects what each will want to do with his life and the bond each has with the other .\"],\n",
              " '¹': [\"the evil wizard gargamel creates a couple of mischievous smurf - like creatures called the naughties that he hopes will let him harness the all - powerful ,  magical smurf - essence .  but when he discovers that only a real smurf can give him what he wants ,  and only a secret spell that smurfette knows can turn the naughties into real smurfs ,  gargamel kidnaps smurfette and brings her to paris ,  where he has been winning the adoration of millions as the world¹s greatest sorcerer .  it ' s up to papa ,  clumsy ,  grouchy ,  and vanity to return to our world ,  reunite with their human friends patrick and grace winslow ,  and rescue her !  will smurfette ,  who has always felt different from the other smurfs ,  find a new connection with the naughties vexy and hackus or will the smurfs convince her that their love for her is true blue ?\"],\n",
              " 'û': [\"as smaug breathes fire and destruction onto laketown ,  another sort of dragon - danger threatens thorin oakenshield  -  the gold madness that seized his grandsire thror ,  king under the mountain of old .  the people of laketown flee to the ruins of dale ,  in the shadow of the lonely mountain ,  only to be greeted by an army of elves led by thranduil ,  marching there too .  asking thorin for their own fair share of the gold ,  men and elves are answered by dwarvish defiance .  thorin seems overmatched until an army led by dwarf - lord dain ,  thorin ' s kinsman ,  approaches from the iron hills to the northeast .  meantime ,  gandalf ,  imprisoned in the ruins of dol guldûr ,  seems about to be finished off by the nine ring wraiths ,  led by the deadliest of their lot ,  witch king of the ancient ,  evil realm of angmar .  and what on middle earth will happen when an enormous army of orcs and wargs suddenly pours out of tunnels under the earth ,  surrounding and threatening doom to all the other armies gathered at the lonely mountain ?  orcs and their fell beasts ,  elves ,  dwarves ,  men  -  five armies join battle ,  and the result will determine the fate of the north in the gathering war of the ring .\"],\n",
              " 'ö': [\"stockholm - based mikael blomkvist ,  co - owner and co - editor of millennium magazine ,  has just lost a high profile libel case resulting from an article he wrote on businessman hans - erik wennerström .  this loss has the potential to ruin mikael professionally .  as such ,  he leaves the magazine in the hands of the other co - owner / co - editor ,  erika berger ,  with who he is openly having an affair ,  which ruined his marriage .  even in erika ' s hands ,  the magazine is also suffering because of the scandal and resulting loss of ad revenue .  because of mikael ' s investigative abilities as a journalist ,  he receives an offer by wealthy and aged henrik vanger :  solve the forty year old cold case of his missing and presumed dead grandniece ,  harriet vanger ,  who was only sixteen at the time of her disappearance .  despite henrik ' s generous financial compensation ,  which could also save the magazine ,  mikael is unconvinced to do the work until henrik adds one additional piece of compensation that money can ' t buy .  mikael will largely do the work on hedeby island just off of hedestad in northern sweden ,  the island where harriet was last seen ,  and where most of the dysfunctional extended vanger family still lives ,  they who are among the suspects .  to the family ,  mikael is solely writing a chronicle of the vanger family ,  without them knowing that his primary task is to find harriet ' s killer .  as mikael proceeds with his investigation ,  he asks for a research assistant .  who henrik ' s lawyer recommends is a young woman named lisbeth salanger ,  who conducted the background check on mikael which henrik ordered in preparation to hire him for this job .  mikael agrees with the choice when he sees that check she did of him ,  he knowing that she could only have found out key pieces of information through one means ,  which could help in this matter .  lisbeth is a brilliant investigator ,  but troubled in her personal life ,  which includes being under state guardianship due to incidents that happened while she was growing up .  despite what he knows of lisbeth through her research of him ,  and despite her alternative appearance ,  mikael begins to trust her ,  and she him  -  the first person she trusts in establishment in a long time  -  as they tie harriet ' s disappearance to a series of what look to be murders of young women leading up to the disappearance .  through the case ,  lisbeth begins to see a different life for herself ,  while mikael has the larger goal of regaining his good name by knowing that wennerström is much what he wrote .\"],\n",
              " 'â': [\"in miami ,  during the presentation of the yankee clippers ,  the wolf band leader and pilot roger bond flirts with the guest belinha de resende and the stringent hotel manager fires them .  however ,  the band is hired for the opening night of the atlântico hotel in rio de janeiro ,  and they need to fly to brazil .  when roger meets belinha in the hall of the hotel ,  he learns that she lost her flight to rio and he offers a ride for her in his plane .  roger is forced to land in an island and he immediately fixes the mechanical problem in the plane ;  however ,  he lies to belinha and tells that he can not fix the problem just to spend the night alone with her .  but belinha ,  who is the fiancée of the brazilian júlio ,  resists to his harassment and later she finds another plane to fly to rio .  once in rio ,  the infatuated roger meets his friend júlio without knowing that he is the fiancé of belinha ,  and he tells about his love for the woman .  when the yankee clippers are ready to open the hotel ,  powerful bankers that are interested to force the bankruptcy of the atlântico ' s owner to take the hotel ,  send the police since he does not have the permit to anticipate the opening day .  however ,  roger ' s friend and musician fred ayres proposes an airborne show to the guests .  meanwhile ,  the brokenhearted roger decides to return to his country and leave belinha with júlio .\"],\n",
              " 'ñ': [\"a large box arrives for donald on his birthday ,  three gifts inside .  he unwraps one at a time ,  and each takes him on an adventure .  the first is a movie projector with a film about the birds of south america ;  donald watches two cartoons ,  one tells of a penguin who longs to live on a tropical isle and the other about a gaucho boy who hunts the wild ostrich .  the second gift is a pop - up book about brazil .  inside is jose carioca ,  who takes donald to brazil ' s bahia for a mix of animation and live action :  the two cartoon birds sing and dance with natives .  the third gift is a piñata ,  accompanied by panchito .  a ride on a magic serape takes the three amigos singing and dancing across mexico .  ¡olé !\"],\n",
              " '¡': [\"a large box arrives for donald on his birthday ,  three gifts inside .  he unwraps one at a time ,  and each takes him on an adventure .  the first is a movie projector with a film about the birds of south america ;  donald watches two cartoons ,  one tells of a penguin who longs to live on a tropical isle and the other about a gaucho boy who hunts the wild ostrich .  the second gift is a pop - up book about brazil .  inside is jose carioca ,  who takes donald to brazil ' s bahia for a mix of animation and live action :  the two cartoon birds sing and dance with natives .  the third gift is a piñata ,  accompanied by panchito .  a ride on a magic serape takes the three amigos singing and dancing across mexico .  ¡olé !\"],\n",
              " 'ê': ['in long flashbacks ,  david owen looks back to when he lived in manhattan with his wife and baby .  the unnecessary noises of the city interrupt his life to the point that he takes a baseball bat to the windshield of cars whose alarms are blaring .  after a few arrests ,  his wife kicks him out .  on his own ,  he learns to avoid arrest and leaves a calling card as  \" the rectifier \"  when he breaks into an offending car .  gruska ,  an enterprising young reporter ,  tracks him down .  he tells her his story ,  they become lovers ,  and she organizes a petition drive for a ballot initiative to ban car alarms .  the mayor becomes the rectifier \\' s bête noire .  can david fight city hall and win ?'],\n",
              " '®': [\"in director tony kaye ' s detachment ,  academy award® winner adrien brody stars as henry barthes ,  an educator with a true talent to connect with his students .  yet henry has chosen to bury his gift .  by spending his days as a substitute teacher ,  he conveniently avoids any emotional connections by never staying anywhere long enough to form an attachment to either students or colleagues .  when a new assignment places him at a public school where a frustrated ,  burned - out administration has created an apathetic student body ,  henry quickly becomes a role model as a teacher who actually cares about the well - being of these students .  in finding an emotional connection to the students but also fellow teachers and a runaway teen ,  he finds that he ' s not alone in a life and death struggle to find beauty in a seemingly vicious and loveless world .\"],\n",
              " 'í': ['vince rizzo  ( andy garcia )  ,  a lifelong resident of the tiny bronx enclave of city island ,  is a family man who makes his living as a corrections officer ,  but secretly longs to become an actor .  ashamed to admit his aspirations to his family ,  vince would rather let his fiery wife joyce  ( julianna margulies )  believe his weekly poker games are a cover for an affair than admit he s taking acting classes .  when vince is asked to reveal his biggest secret in class ,  he sets off a chain of events that turns his mundane suburban life upside down .  inspired by the exercise ,  he decides to bring his long - lost ex - con son tony  ( steven strait )  home to meet his family ,  and it soon becomes clear that everyone  -  including his college student daughter  ( dominik garcía - lorido )  ,  teenaged son vinnie ,  jr .   ( ezra miller )  ,  charismatic acting partner  ( emily mortimer )  and drama coach  ( alan arkin )   -  has something to hide .  a perfect storm of deception and half truths makes vince and his family members realize that the truth may not set them free ,  but it is easier to keep track of than all their well - intentioned lies .'],\n",
              " 'ä': ['spoilers  from the novel by o . v .  falck - ytter titled  \" häkon häkonson ,  a norse robinson crusoe \"  ,  a  N  - year - old norwegian boy  ( smian smestad )  is obliged to go sea in  N  as a cabin boy in order to support his family ,  who are in humiliating financial straits .  fortunately ,  he ships with his father \\' s good friend ,  jens  ( trond peter stamsø munch )  ,  who introduces him to ship life .  haakon \\' s problems begin when he discovers but does not report a stowaway ,  a girl ,  mary  ( louisa haigh )  ,  of about his own age ,  and then involves jens in the crime as well .  meanwhile ,  the ship has become secretly infiltrated with pirates ,  and ,  as tension around the crime mounts ,  a storm causes the ship to founder and all aboard are thrown upon their own resources .  haakon awakes alone on the beach of a jungle island of singular beauty ,  where he finds the recent remains of pirates ,  including their enormous treasure and proof that an impostor aboard his ship was one of them ,  the notorious merrick  ( gabriel byrne )  .  stranded alone ,  he experiences elation and melancholy as he explores the island learning its secrets and making it his new home ,  all the while trying to devise a means of escape .  after a number of months ,  he discovers jens and mary ,  and together they begin to settle into island life as mary and haakon quickly become quite devoted to each other .  but a cohort of the pirates has survived as well ,  including merrick ,  who ,  as haakon has anticipated ,  returns to recover his treasure .  chases ,  rescues ,  and battles ensue across the island ,  more merry than sinister ,  until ,  with the help of his friends ,  haakon prevails through cleverness and heroism .  in perhaps the most touching moment of the film ,  he returns home to his parents in norway immensely wealthy and in a position to put to shame all those who have in the past humiliated his heretofore poverty - stricken family ,  and introduces them to mary ,  who ,  he says ,   \" will be staying with us for a while \"  .'],\n",
              " 'ø': ['spoilers  from the novel by o . v .  falck - ytter titled  \" häkon häkonson ,  a norse robinson crusoe \"  ,  a  N  - year - old norwegian boy  ( smian smestad )  is obliged to go sea in  N  as a cabin boy in order to support his family ,  who are in humiliating financial straits .  fortunately ,  he ships with his father \\' s good friend ,  jens  ( trond peter stamsø munch )  ,  who introduces him to ship life .  haakon \\' s problems begin when he discovers but does not report a stowaway ,  a girl ,  mary  ( louisa haigh )  ,  of about his own age ,  and then involves jens in the crime as well .  meanwhile ,  the ship has become secretly infiltrated with pirates ,  and ,  as tension around the crime mounts ,  a storm causes the ship to founder and all aboard are thrown upon their own resources .  haakon awakes alone on the beach of a jungle island of singular beauty ,  where he finds the recent remains of pirates ,  including their enormous treasure and proof that an impostor aboard his ship was one of them ,  the notorious merrick  ( gabriel byrne )  .  stranded alone ,  he experiences elation and melancholy as he explores the island learning its secrets and making it his new home ,  all the while trying to devise a means of escape .  after a number of months ,  he discovers jens and mary ,  and together they begin to settle into island life as mary and haakon quickly become quite devoted to each other .  but a cohort of the pirates has survived as well ,  including merrick ,  who ,  as haakon has anticipated ,  returns to recover his treasure .  chases ,  rescues ,  and battles ensue across the island ,  more merry than sinister ,  until ,  with the help of his friends ,  haakon prevails through cleverness and heroism .  in perhaps the most touching moment of the film ,  he returns home to his parents in norway immensely wealthy and in a position to put to shame all those who have in the past humiliated his heretofore poverty - stricken family ,  and introduces them to mary ,  who ,  he says ,   \" will be staying with us for a while \"  .'],\n",
              " '=': [\"russ raymond ,  america ' s number one crooner ,  disappears and joins the navy under the name tommy halstead .  dorothy roberts ,  a magazine journalist ,  is intent on finding out what happened to russ and she tries everything she can to get a picture of him to prove he ' s russ raymond .  tommy ' s friends ,  pomeroy watson and smokey adams , help him while pomeroy writes love letters to patty andrews .  but because smokey makes pomeroy lie about himself in the letters ,  and when patty comes to the navy base ,  she ' s furious at pomeroy .  when pomeroy ,  smokey ,  tommy and the andrews sisters set sail for hawaii ,  pomeroy discovers there ' s a tomato in the potato locker ,  and she ' s been snapping shots of tommy the whole trip .  whether pomeroy ' s proving that  N  x  N  =  N   -  three different ways ,  having smokey help him play ship captain for patty ,  or falling out of his hammock ,  it ' s an abbott and costello classic .\"],\n",
              " 'á': ['harry block es un escritor en cuyos libros retrata sus crisis emocionales de forma tan precisa que muchas personas de la vida real se sienten directamente aludidas al leerlos .  su vida aparece ante nuestros ojos en forma de episodios en los que los personajes de ficción se mezclan con los reales y en las que el harry - escritor tendrá que ajustar las cuentas con el harry - ciudadano - de - a - pie .  ni decir cabe que harry es en realidad woody ,  y que la reflexión sobre el escritor y su obra le sirve de pretexto para hacer un repaso a su propia obra como realizado'],\n",
              " 'ó': ['harry block es un escritor en cuyos libros retrata sus crisis emocionales de forma tan precisa que muchas personas de la vida real se sienten directamente aludidas al leerlos .  su vida aparece ante nuestros ojos en forma de episodios en los que los personajes de ficción se mezclan con los reales y en las que el harry - escritor tendrá que ajustar las cuentas con el harry - ciudadano - de - a - pie .  ni decir cabe que harry es en realidad woody ,  y que la reflexión sobre el escritor y su obra le sirve de pretexto para hacer un repaso a su propia obra como realizado'],\n",
              " 'ë': ['in austin ,  texas ,  the girlfriends julia ,  arlene and shanna meet in a bar to drink ,  smoke and make out with their boyfriends before traveling alone to lake lbj to spend the weekend together .  they meet the former hollywood stuntman mike ,  who takes pam out in his  \" death - proof \"  stunt car .  fourteen months later ,  mike turns up in lebanon ,  tennessee and chase abernathy ,  zoë and kim ,  but these girls are tough and decide to pay - back the attack .'],\n",
              " '½': ['good girls merritt ,  melanie ,  tuggle and angie  -  all students at mid - western penmore university  -  are planning on going to fort lauderdale ,  florida for spring break to get away from the mid - western snow despite not having much money to spend once there .  on the drive down ,  they admit their real purpose is to go where the boys are .  the statuesque  N  \\'  N ½ \"  tall tuggle just wants to find someone who won \\' t be intimidated by her height .  because of her size ,  she sees herself as a  \" baby - making factory \"   -  only if it is under legal circumstances .  she meets the tall but kooky tv  ( so named because of his want to work in television )  ,  who is more interested in sex than he is in matrimony .  tomboy and perpetual fourth wheel angie ends up with esoteric musician basil more out of circumstance than want ,  but angie tries to find some common ground with him .  naive melanie is the extreme romantic ,  who dreams of being swept off her feet and proposed to by an ivy leaguer .  she gets half her wish when she meets a bunch of yale boys ,  but she soon finds out that romance in spring break fort lauderdale may not be all that she envisions .  and bright but academically underachieving merritt has the most liberal views about the entire male - female mating ritual ,  she who believes in living together before marriage and premarital sex ,  only however with someone you love .  she catches the eye of the wealthy ryder smith ,  also an ivy leaguer attending brown ,  with who she may test her views .'],\n",
              " 'ô': [\"in ako ,  lord asano and his samurai ôishi are hunting in the forest and they find a half - breed boy .  lord asano brings him to ako and the boy that is named kai is raised with his daughter mika .  years later ,  mika and kai are secretly in love with each other .  lord asano welcomes the shogun tsunayoshi  ( cary - hiroyuki tagawa )  and the lord kira at home .  however ,  kira ' s witch casts a spell on lord asano and he tries to kill kira .  the shogun sentences lord asano to death and offers the option of committing harakiri to die with honor .  ôishi and his samurais become ronin and he is arrested in a hole ;  and kai is sold as a slave in another village .  one year later ,  ôishi is released from the imprisonment and he plots a scheme to revenge lord asano with kai and the other ronin .\"],\n",
              " 'å': [\"ella  ( eloise webb )  lives with her wealthy parents in a beautiful estate in a peaceful kingdom .  from a young age ,  she is taught by her mother  ( hayley atwell )  to believe in the existence and presence of magic ,  allowing her to befriend the many animals on the estate ,  particularly the mice .  everything is perfect until her mother contracts a fatal illness .  on her deathbed ,  she makes ella promise that she ' ll always have courage and show kindness to others .  years later ,  ella ' s  ( lily james )  father  ( ben chaplin )  reveals that an old acquaintance ,  lord tremaine ,  has passed away and that he has chosen tremaine ' s widow  ( cate blanchett )  ,  who has two daughters of her own ,  drizella  ( sophie mcshera )  and anastasia  ( holliday grainger )  ,  as his second wife .  ella welcomes her stepfamily warmly ,  despite the stepsisters '  less than pleasant attitudes and her needing to protect her friends from her stepmother ' s cat ,  lucifer .  soon after ,  ella ' s father goes abroad on business .  sadly ,  he becomes ill and also dies .  this new loss results in lady tremaine revealing her true cold ,  wicked nature .  desperate for money ,  she dismisses the servants and forces ella to do all the work .  even worse ,  she gives ella ' s room to the stepsisters ,  forces her to sleep in the attic ,  and won ' t even let her eat with the family .  one morning ,  after ella ,  not wanting to sleep in the cold attic ,  sleeps by the fireplace ,  her soot covered face leads her stepsisters to mock and dub her as cinderella ,  which lady tremaine  ( and even ella herself )  calls her .  crushed by their cruelty ,  ella goes for a ride in the woods ,  where she encounters a hunting party .  she meets one of the hunters  ( richard madden )  ,  who claims to be an apprentice named kit who lives in the palace .  unknown to her ,  he ' s actually the only son of the land ' s dying king  ( derek jacobi )  .  despite never learning her name ,  kit  ( a nickname given to him by his father )  is enchanted by ella ' s charm ,  kindness ,  and unique outlook on life and becomes obsessed with her .  upon learning that he has little time left ,  the king insists that kit find a bride at an upcoming ball .  despite the law saying that he must marry a princess ,  kit can ' t get over the mystery girl and talks his father into letting every eligible maiden in the land attend .  when the ball is announced ,  the tremaine family is ecstatic at the prospect of marrying into royalty .  however ,  when lady tremaine refuses to buy ella a new dress ,  she fashions one herself from an old dress of her mother ' s with help from the mice .  the night of the ball ,  ella tries to join her stepfamily on the way out ,  but lady tremaine ,  claiming that her mere presence will disgrace them ,  leads her daughters in ripping up the dress before leaving without her .  ella runs into the garden in tears and encounters an old beggar woman ,  who reveals herself to be her fairy godmother  ( helena bonham carter )  .  she uses her magic to turn a pumpkin into a magnificent carriage ,  four mice into horses ,  two lizards into footmen ,  and a goose into a coachman ,  as well as turning ella ' s dress into a gorgeous blue gown complete with glass shoes before sending her on her way with the warning that the spell only lasts until midnight .  at the ball ,  ella wins the coveted first dance with kit ,  whose true identity she ' s pleasantly surprised to learn .  this irritates the grand duke  ( stellan skarsgård )  ,  who ' s secretly promised kit to a princess ,  a fact lady tremaine overhears .  after dancing ,  ella and kit tour the palace and grounds together ,  slowly falling in love ,  but before he can learn her name ,  the clock strikes  N  :  N  ,  forcing her to flee ,  dropping one of her glass shoes in the process .  she manages to get away before the stroke of midnight and hides the other shoe in her room as a memento .  soon after ,  the king dies ,  but not before giving his son permission to find his love .  once it ' s announced that every maiden in the kingdom is to try on the shoe ,  ella goes to her room for hers ,  only to find lady tremaine waiting with it in hand ,  having figured out her identity from her attitude after the ball .  lady tremaine demands that ella make her head of the royal family and give her daughters proper husbands when she becomes queen and when she refuses ,  lady tremaine smashes the shoe and locks ella in her room .  she then brings the shoe and identity of the mystery girl to the grand duke and talks him into rewarding her with title of countess and worthy husbands for her daughters .  he takes the shattered shoe to kit ,  hoping to convince him to forget the mystery girl ,  but this makes him more determined than ever to find his love .  the grand duke and the captain of the guards  ( nonso anozie )  lead a garrison to try the remaining shoe on all the maidens in the land ,  all of whom are rejected by its magic ,  before arriving at the tremaine estate .  when the shoe rejects both stepsisters ,  they turn to leave ,  only to hear ella singing thanks to the mice opening her bedroom window .  the grand duke tries to leave anyway but is stopped by one of the men ,  who reveals himself to be kit in disguise and demands that the captain investigate the sound .  once ella is found ,  lady tremaine tries to forbid her from trying on the shoe ,  but is overruled by the captain .  sure enough ,  the shoe fits and ella leaves with kit after forgiving her stepmother ,  who later is forced to leave the kingdom with her daughters and the grand duke ,  never to return .  kit and ella are married and crowned king and queen .  the fairy godmother narrates that they become the land ' s most beloved monarchs ,  ruling with the courage and kindness she promised her mother .\"],\n",
              " 'ò': ['a couple of comical ,  out - of - work archaeologists  ( dick foran and wallace ford )  in egypt discover evidence of the burial place of the ancient egyptian princess ananka .  after receiving funding from an eccentric magician  ( cecil kellaway )  and his beautiful daughter  ( peggy moran )  ,  they set out into the desert only to be terrorized by a sinister high priest  ( george zucco )  and the living mummy kharis  ( tom tyler )  who are the guardians of ananka òs tomb .'],\n",
              " 'à': ['\" ho compiuto quarant \\' anni .  non voglio svegliarmi a cinquanta per scoprire di aver misurato la mia vita a cucchiaini di caffè \"  ,  afferma sconsolato il protagonista ,  giornalista di moda e spettacolo col pallino del romanzo o della sceneggiatura ,  lasciando improvvisamente la moglie per correr dietro a nuove ed a volte improbabili fidanzate .  commedia tutta  \\' alleniana \\'  ,  con grandi momenti comici  ( esilarante la  \" lezione di sesso orale \"  )  e grandi stangate polemiche sul mondo dello spettacolo ,  mostrato senza peli sulla lingua da chi ,  in fondo ,  lo vive e lo conosce molto bene .  in fondo ,  quell \\'  help scritto in cielo  ( film nel film )  con cui inizia e finisce celebrity è il grido d \\' aiuto di un uomo e di un autore ancora in cerca di qualcosa .  riuscirà nell \\' intento  ?'],\n",
              " 'ù': [\"anton phibes ,  celebre organista ,  dato per morto in un incidente stradale ,  è in realtà rimasto soltanto orribilmente sfigurato .  l ' uomo è convinto che la sua adorata moglie victoria regina ,  morta durante un ' operazione chirurgica ,  sia stata vittima dell ' incapacità dei medici .  a distanza di anni dal fatto ,  phibes comincia ad attuare la sua vendetta contro l ' equipe che aveva operato la consorte .  ispirandosi alla bibbia  ( le dieci piaghe che colpirono l ' egitto in seguito alla maledizione divina )  e aiutato da vulnavia ,  un ' avvenente e silenziosa collaboratrice ,  phibes uccide ,  uno ad uno e con i mezzi più efferati ,  sette medici e la capo infermiera .  capo dell ' equipe che aveva operato regina ,  e autore materiale dell ' intervento ,  era stato il dottor viesseux e a lui phibes riserva il castigo più atroce .  gli rapisce il figliolo e lo lega ad un lettino operatorio ,  sul quale incombe un recipiente pieno di terribile acido .  inoltre ,  introduce nel torace del ragazzo una piccola chiave che serve a liberarlo .  poi convoca viesseux ,  al quale ha concesso solo sei minuti di tempo per operare il figlio e salvarlo dall ' acido .  l ' operazione riesce e sarà vulniana ad essere corrosa dall ' acido .  convinto d ' aver compiuto la propria vendetta fino in fondo ,  phibes si sdraia accanto al cadavere imbalsamato della moglie e ,  dopo essersi dissanguato ,  sprofonda nelle tenebre dei sotterranei della propria dimora .\"],\n",
              " '°': [\"new yorkers paul bratter and corie bratter née banks have just gotten married .  he is a stuffed shirt just starting his career as a lawyer .  she is an independently minded free spirit who prides herself on doing the illogical purely out of a sense of adventure ,  such acts as walking through washington square park barefoot when it ' s  N °f outside .  their six day honeymoon at the plaza hotel shows that they can get to know each other easily in the biblical sense .  but they will see if they can get to know each other in their real life when they move into their first apartment ,  a cozy  ( in other words ,  small )  ,  slightly broken down top floor unit in a five story walk - up .  while corie joyfully bounds up and down the stairs ,  paul ,  always winded after the fact ,  hates the fact of having to walk up the six flights of stairs ,  if one includes the stairs that comprise the outside front stoop .  beyond the issues with the apartment itself ,  paul and corie will have to deal with an odd assortment of neighbors ,  most specifically eccentric senior victor velasco ,  who lives in the unusual attic and who would like to consider himself a dirty old man .  corie ,  worried about her single straight - laced mother ethel banks ,  wants to set her up with victor .  without corie or paul truly realizing it ,  ethel and victor as a twosome is as illogical as corie and paul .  what happens between ethel and victor may be a predictor if corie and paul ' s marriage can make it in the long run .\"],\n",
              " 'ü': [\"the story begins as wikileaks founder julian assange  ( benedict cumberbatch )  and his colleague daniel domscheit - berg  ( daniel brühl )  team up to become underground watchdogs of the privileged and powerful .  on a shoestring ,  they create a platform that allows whistle - blowers to anonymously leak covert data ,  shining a light on the dark recesses of government secrets and corporate crimes .  soon ,  they are breaking more hard news than the world ' s most legendary media organizations combined .  but when assange and berg gain access to the biggest trove of confidential intelligence documents in u . s .  history ,  they battle each other and a defining question of our time :  what are the costs of keeping secrets in a free society - and what are the costs of exposing them ?\"]}"
            ]
          },
          "metadata": {},
          "execution_count": 8
        }
      ]
    },
    {
      "cell_type": "code",
      "source": [
        "# Reemplazar caracteres especiales por su equivalente en texto\n",
        "replacements = {\n",
        "    \"ï\": \"i\",\n",
        "    \"£\": \"$\",\n",
        "    \"à\":\"a\",\n",
        "    \"è\": \"e\",\n",
        "    \"ì\": \"i\",\n",
        "    \"ò\": \"o\",\n",
        "    \"ù\": \"u\",\n",
        "    \"®\": \"\",\n",
        "    \"ä\": \"a\",\n",
        "    \"ë\": \"é\",\n",
        "    \"ï\": \"i\",\n",
        "    \"ö\": \"o\",\n",
        "    \"ü\": \"u\",\n",
        "    \"Bouvetøya\":\"Bouvet\",\n",
        "    \" \\' \":\"'\",\n",
        "    \"\\'\":\"'\",\n",
        "    \"¹\":\"'\",\n",
        "    \"â\":\"a\",\n",
        "    \"ê\":\"e\",\n",
        "    \"î\":\"i\",\n",
        "    \"ô\":\"o\",\n",
        "    \"û\":\"u\",\n",
        "    \"å\": \"a\",\n",
        "    \"é\": \"e\",\n",
        "    \"í\": \"i\",\n",
        "    \"ó\": \"o\",\n",
        "    \"ú\": \"u\",\n",
        "    \"á\": \"a\",\n",
        "    \"é\": \"e\",\n",
        "    \"í\": \"i\",\n",
        "    \"ó\": \"o\",\n",
        "    \"ú\": \"u\"\n",
        "    # \"'\":\"\"\n",
        "}\n",
        "\n",
        "# Aplicar todas las sustituciones\n",
        "for old, new in replacements.items():\n",
        "    dataTraining['plot'] = dataTraining['plot'].str.replace(old, new, regex=False)\n",
        "\n",
        "# Verificar el reemplazo\n",
        "dataTraining['plot'].head()\n"
      ],
      "metadata": {
        "colab": {
          "base_uri": "https://localhost:8080/"
        },
        "id": "mmTop_4XX-UN",
        "outputId": "b2c824f3-962f-4e72-884c-43c0f1aeaf26"
      },
      "execution_count": 9,
      "outputs": [
        {
          "output_type": "execute_result",
          "data": {
            "text/plain": [
              "3107    most is the story of a single father who takes...\n",
              "900     a serial killer decides to teach the secrets o...\n",
              "6724    in sweden ,  a female blackmailer with a disfi...\n",
              "4704    in a friday afternoon in new york ,  the presi...\n",
              "2582    in los angeles ,  the editor of a publishing h...\n",
              "Name: plot, dtype: object"
            ]
          },
          "metadata": {},
          "execution_count": 9
        }
      ]
    },
    {
      "cell_type": "code",
      "source": [
        "# Reemplazar caracteres especiales por su equivalente en texto\n",
        "replacements = {\n",
        "    \"bullard\\'s\": \"bullards\",\n",
        "    \"world\\'s\":\"worlds\",\n",
        "    \"avery\\'s\":\"averys\",\n",
        "    \"wallet\\'s\":\"wallets\",\n",
        "    \"father\\'s\": \"fathers\",\n",
        "    \"mother\\'s\": \"mothers\",\n",
        "    \"brother\\'s\": \"brothers\",\n",
        "    \"sister\\'s\": \"sisters\",\n",
        "    \"haakon\\'s\": \"haakons\",\n",
        "    \"king\\'s\": \"kings\",\n",
        "    \"queen\\'s\": \"queens\",\n",
        "    \"family\\'s\": \"families\",\n",
        "    \"father\\'s\": \"fathers\",\n",
        "    \"mother\\'s\": \"mothers\",\n",
        "    \"it\\'s\": \"its\",\n",
        "    \"won\\'t\":\"wont\",\n",
        "    \"weyland\\'s\": \"weylands\",\n",
        "    \"didn\\'t\": \"didnt\"\n",
        "}\n",
        "\n",
        "# Aplicar todas las sustituciones\n",
        "for old, new in replacements.items():\n",
        "    dataTraining['plot'] = dataTraining['plot'].str.replace(old, new, regex=False)\n",
        "\n",
        "# Verificar el reemplazo\n",
        "dataTraining['plot'].head()\n"
      ],
      "metadata": {
        "colab": {
          "base_uri": "https://localhost:8080/"
        },
        "id": "N__oI1cLmcHD",
        "outputId": "4749cfd4-00ae-4891-f67c-4a9cbc3b4b52"
      },
      "execution_count": 10,
      "outputs": [
        {
          "output_type": "execute_result",
          "data": {
            "text/plain": [
              "3107    most is the story of a single father who takes...\n",
              "900     a serial killer decides to teach the secrets o...\n",
              "6724    in sweden ,  a female blackmailer with a disfi...\n",
              "4704    in a friday afternoon in new york ,  the presi...\n",
              "2582    in los angeles ,  the editor of a publishing h...\n",
              "Name: plot, dtype: object"
            ]
          },
          "metadata": {},
          "execution_count": 10
        }
      ]
    },
    {
      "cell_type": "code",
      "source": [
        "# Busca y reemplaza dos o más espacios seguidos por un solo espacio en la columna 'Text'\n",
        "dataTraining['plot'] = dataTraining['plot'].str.replace(r'  +', ' ', regex=True)\n",
        "\n",
        "# Busca y reemplaza dos comas seguidas por una sola coma en la columna 'Text'\n",
        "dataTraining['plot'] = dataTraining['plot'].str.replace(r',,', ',')\n",
        "\n",
        "# # Elimina los espacios al inicio y al final del texto en la columna 'Text'\n",
        "dataTraining['plot'] = dataTraining['plot'].apply(lambda x: x.strip())"
      ],
      "metadata": {
        "id": "-TD_rZVqoeyz"
      },
      "execution_count": 11,
      "outputs": []
    },
    {
      "cell_type": "code",
      "source": [
        "# Reemplazar caracteres especiales por su equivalente en texto\n",
        "replacements = {\n",
        "    \"one-\": \"1-\",\n",
        "    \"two-\": \"2-\",\n",
        "    \"three-\": \"3-\",\n",
        "    \"four-\": \"4-\",\n",
        "    \"five-\": \"5-\",\n",
        "    \"six-\": \"6-\",\n",
        "    \"seven-\": \"7-\",\n",
        "    \"eight-\": \"8-\",\n",
        "    \"nine-\": \"9-\"\n",
        "}\n",
        "\n",
        "# Aplicar todas las sustituciones\n",
        "for old, new in replacements.items():\n",
        "    dataTraining['plot'] = dataTraining['plot'].str.replace(old, new, regex=False)\n",
        "\n",
        "# Verificar el reemplazo\n",
        "dataTraining['plot'].head()"
      ],
      "metadata": {
        "colab": {
          "base_uri": "https://localhost:8080/"
        },
        "id": "l8nGiDtFrQKk",
        "outputId": "c5155770-9d69-456a-e633-b145ca907817"
      },
      "execution_count": 12,
      "outputs": [
        {
          "output_type": "execute_result",
          "data": {
            "text/plain": [
              "3107    most is the story of a single father who takes...\n",
              "900     a serial killer decides to teach the secrets o...\n",
              "6724    in sweden , a female blackmailer with a disfig...\n",
              "4704    in a friday afternoon in new york , the presid...\n",
              "2582    in los angeles , the editor of a publishing ho...\n",
              "Name: plot, dtype: object"
            ]
          },
          "metadata": {},
          "execution_count": 12
        }
      ]
    },
    {
      "cell_type": "code",
      "source": [
        "import re\n",
        "\n",
        "def normalize_text(text):\n",
        "    # Normalizar espacios múltiples a un solo espacio\n",
        "    text = re.sub(r'\\s+', ' ', text)\n",
        "    # Asegurar un espacio después de los signos de puntuación (.,;:!?), si no lo hay\n",
        "    text = re.sub(r'([.,;:!?])([^\\s])', r'\\1 \\2', text)\n",
        "    # Opcional: remover espacios antes de signos de puntuación\n",
        "    text = re.sub(r'\\s([.,;:!?])', r'\\1', text)\n",
        "    return text\n",
        "\n",
        "# Aplicar la normalización al texto completo\n",
        "dataTraining['plot'] = dataTraining['plot'].apply(normalize_text)"
      ],
      "metadata": {
        "id": "9T8JKn9GsAM5"
      },
      "execution_count": 13,
      "outputs": []
    },
    {
      "cell_type": "code",
      "source": [
        "from collections import defaultdict\n",
        "import re\n",
        "\n",
        "text_column = dataTraining['plot']\n",
        "\n",
        "# Definir un patrón de regex para buscar caracteres que no sean alfanuméricos ni espacios básicos\n",
        "special_char_pattern = re.compile(r'[^a-zA-Z0-9\\s]')\n",
        "\n",
        "# Diccionario para almacenar hasta 5 ejemplos por cada carácter especial encontrado\n",
        "examples_per_special_char = defaultdict(list)\n",
        "\n",
        "# Recorrer cada texto en la columna 'Text'\n",
        "for text in text_column:\n",
        "    # Encontrar todos los caracteres especiales únicos en el texto actual\n",
        "    unique_special_chars = set(special_char_pattern.findall(text))\n",
        "    # Para cada carácter especial encontrado, agregar el texto actual como un ejemplo\n",
        "    for char in unique_special_chars:\n",
        "        if len(examples_per_special_char[char]) < 1:\n",
        "            examples_per_special_char[char].append(text)\n",
        "\n",
        "# Convertir el diccionario a un formato más legible para la presentación\n",
        "{char: examples[:2] for char, examples in examples_per_special_char.items()}"
      ],
      "metadata": {
        "colab": {
          "base_uri": "https://localhost:8080/"
        },
        "id": "IV0GMK0IfpR6",
        "outputId": "18ac9366-c2da-4233-f1f1-70feae69624a"
      },
      "execution_count": 14,
      "outputs": [
        {
          "output_type": "execute_result",
          "data": {
            "text/plain": [
              "{'-': ['most is the story of a single father who takes his eight year - old son to work with him at the railroad drawbridge where he is the bridge tender. a day before, the boy meets a woman boarding a train, a drug abuser. at the bridge, the father goes into the engine room, and tells his son to stay at the edge of the nearby lake. a ship comes, and the bridge is lifted. though it is supposed to arrive an hour later, the train happens to arrive. the son sees this, and tries to warn his father, who is not able to see this. just as the oncoming train approaches, his son falls into the drawbridge gear works while attempting to lower the bridge, leaving the father with a horrific choice. the father then lowers the bridge, the gears crushing the boy. the people in the train are completely oblivious to the fact a boy died trying to save them, other than the drug addict woman, who happened to look out her train window. the movie ends, with the man wandering a new city, and meets the woman, no longer a drug addict, holding a small baby. other relevant narratives run in parallel, namely one of the female drug - addict, and they all meet at the climax of this tumultuous film.'],\n",
              " ',': ['most is the story of a single father who takes his eight year - old son to work with him at the railroad drawbridge where he is the bridge tender. a day before, the boy meets a woman boarding a train, a drug abuser. at the bridge, the father goes into the engine room, and tells his son to stay at the edge of the nearby lake. a ship comes, and the bridge is lifted. though it is supposed to arrive an hour later, the train happens to arrive. the son sees this, and tries to warn his father, who is not able to see this. just as the oncoming train approaches, his son falls into the drawbridge gear works while attempting to lower the bridge, leaving the father with a horrific choice. the father then lowers the bridge, the gears crushing the boy. the people in the train are completely oblivious to the fact a boy died trying to save them, other than the drug addict woman, who happened to look out her train window. the movie ends, with the man wandering a new city, and meets the woman, no longer a drug addict, holding a small baby. other relevant narratives run in parallel, namely one of the female drug - addict, and they all meet at the climax of this tumultuous film.'],\n",
              " '.': ['most is the story of a single father who takes his eight year - old son to work with him at the railroad drawbridge where he is the bridge tender. a day before, the boy meets a woman boarding a train, a drug abuser. at the bridge, the father goes into the engine room, and tells his son to stay at the edge of the nearby lake. a ship comes, and the bridge is lifted. though it is supposed to arrive an hour later, the train happens to arrive. the son sees this, and tries to warn his father, who is not able to see this. just as the oncoming train approaches, his son falls into the drawbridge gear works while attempting to lower the bridge, leaving the father with a horrific choice. the father then lowers the bridge, the gears crushing the boy. the people in the train are completely oblivious to the fact a boy died trying to save them, other than the drug addict woman, who happened to look out her train window. the movie ends, with the man wandering a new city, and meets the woman, no longer a drug addict, holding a small baby. other relevant narratives run in parallel, namely one of the female drug - addict, and they all meet at the climax of this tumultuous film.'],\n",
              " '\"': ['in a friday afternoon in new york, the president of the tredway corporation avery bullard has just had a meeting with investment bankers and sends a telegram scheduling a meeting at the furniture factory in millburgh, pennsylvania, at six pm with his executives. bullard has never appointed an executive vice - president for the corporation after the death of the previous one but when he is getting a taxi, he has a stroke and dies on the street. a thief steals his wallet to get his money and his body goes to the morgue without identification. the investment banker george nyle caswell sees bullards body from his window and decides to use the information to make money, asking a broker to sell as much tredway stocks as possible until the end of the day, with the intention of buying them back monday morning by a lower price making profit. meanwhile the executives unsuccessfully wait for bullard in the meeting room. when they learn that bullard is dead, the ambitions accountant vp and controller loren phineas shaw releases to the press the balance of tredway showing profit and assumes temporarily the leadership of the company, expecting to be elected the next president by the seven - member board. however, the vp for design and development mcdonald \" don \" walling and the vp and treasurer frederick y. alderson oppose to shaw. there is a struggle in the corporation for the position of president and shaw blackmails the vp for sales josiah walter dudley that is married and has a mistress, his secretary eva bardeman, to get his vote. caswell needs to cover the N, N stocks he sold and shaw promises to give to him the stocks for the price he sold if he is elected president. the vp for manufacturing jesse q. grimm is near to retire but is a close friend of frederick and supports him. therefore the heir of tredway and bullards mistress julia o. tredway will be responsible to give the casting vote. but she is disenchanted with the corporation. who will be elected the next president?'],\n",
              " '?': ['in a friday afternoon in new york, the president of the tredway corporation avery bullard has just had a meeting with investment bankers and sends a telegram scheduling a meeting at the furniture factory in millburgh, pennsylvania, at six pm with his executives. bullard has never appointed an executive vice - president for the corporation after the death of the previous one but when he is getting a taxi, he has a stroke and dies on the street. a thief steals his wallet to get his money and his body goes to the morgue without identification. the investment banker george nyle caswell sees bullards body from his window and decides to use the information to make money, asking a broker to sell as much tredway stocks as possible until the end of the day, with the intention of buying them back monday morning by a lower price making profit. meanwhile the executives unsuccessfully wait for bullard in the meeting room. when they learn that bullard is dead, the ambitions accountant vp and controller loren phineas shaw releases to the press the balance of tredway showing profit and assumes temporarily the leadership of the company, expecting to be elected the next president by the seven - member board. however, the vp for design and development mcdonald \" don \" walling and the vp and treasurer frederick y. alderson oppose to shaw. there is a struggle in the corporation for the position of president and shaw blackmails the vp for sales josiah walter dudley that is married and has a mistress, his secretary eva bardeman, to get his vote. caswell needs to cover the N, N stocks he sold and shaw promises to give to him the stocks for the price he sold if he is elected president. the vp for manufacturing jesse q. grimm is near to retire but is a close friend of frederick and supports him. therefore the heir of tredway and bullards mistress julia o. tredway will be responsible to give the casting vote. but she is disenchanted with the corporation. who will be elected the next president?'],\n",
              " \"'\": [\"in los angeles, the editor of a publishing house carol hunnicut goes to a blind date with the lawyer michael tarlow, who has embezzled the powerful mobster leo watts. carol accidentally witnesses the murder of michel by leo's hitman. the scared carol sneaks out of michael's room and hides in an isolated cabin in canada. meanwhile the deputy district attorney robert caulfield and sgt. dominick benti discover that carol is a witness of the murder and they report the information to caulfield's chief martin larner and they head by helicopter to canada to convince carol to testify against leo. however they are followed and the pilot and benti are murdered by the mafia. caulfield and carol flees and they take a train to vancouver. caulfield hides carol in his cabin and he discloses that there are three hitman in the train trying to find carol and kill her. but they do not know her and caulfield does not know who might be the third killer from the mafia and who has betrayed him in his office.\"],\n",
              " '(': [\"roy munson was raised to be the best bowler in the world ( trained early on by his father ). but a fellow bowler, ernie mccracken and a misunderstanding with some rough punks, leaves poor roy with the loss of his bowling hand! not to let this get him down, he gets a prosthetic hand and becomes a travelling sales man. but its really all down hill for him from that night on until... one day he meets ishmael who is amish and sneaks away from the farm to bowl ( his fellow amish would disown him if they knew )! roy convinces ishmael to let him be his trainer and he'll make him the best bowler the world has ever seen. reluctantly ishmael agrees to go on the road and shortly afterwards actually finds that life outside the farm is quite fun. soon their paths cross that of ernie mccracken who is still a top ranking bowler. while roy's career and life have landed in the toilet bowl, ernie is still drawing huge crowds and all the babes! they both square off for the ultimate bowling championship... to see which one truly is the champion.\"],\n",
              " '!': [\"roy munson was raised to be the best bowler in the world ( trained early on by his father ). but a fellow bowler, ernie mccracken and a misunderstanding with some rough punks, leaves poor roy with the loss of his bowling hand! not to let this get him down, he gets a prosthetic hand and becomes a travelling sales man. but its really all down hill for him from that night on until... one day he meets ishmael who is amish and sneaks away from the farm to bowl ( his fellow amish would disown him if they knew )! roy convinces ishmael to let him be his trainer and he'll make him the best bowler the world has ever seen. reluctantly ishmael agrees to go on the road and shortly afterwards actually finds that life outside the farm is quite fun. soon their paths cross that of ernie mccracken who is still a top ranking bowler. while roy's career and life have landed in the toilet bowl, ernie is still drawing huge crowds and all the babes! they both square off for the ultimate bowling championship... to see which one truly is the champion.\"],\n",
              " ')': [\"roy munson was raised to be the best bowler in the world ( trained early on by his father ). but a fellow bowler, ernie mccracken and a misunderstanding with some rough punks, leaves poor roy with the loss of his bowling hand! not to let this get him down, he gets a prosthetic hand and becomes a travelling sales man. but its really all down hill for him from that night on until... one day he meets ishmael who is amish and sneaks away from the farm to bowl ( his fellow amish would disown him if they knew )! roy convinces ishmael to let him be his trainer and he'll make him the best bowler the world has ever seen. reluctantly ishmael agrees to go on the road and shortly afterwards actually finds that life outside the farm is quite fun. soon their paths cross that of ernie mccracken who is still a top ranking bowler. while roy's career and life have landed in the toilet bowl, ernie is still drawing huge crowds and all the babes! they both square off for the ultimate bowling championship... to see which one truly is the champion.\"],\n",
              " ':': [\"four guys, one camera, and their experience chronicling the exhilarating and terrifying rite of passage: losing your virginity. as these guys help their buddy get laid, they'll have to survive friends with benefits, internet hookups, even porn stars during an adventure that proves why you will always remember your first.\"],\n",
              " '$': ['living in greenwich village, tepper is a pretty stand - up kind of guy. as a stand - up guy, he helps his elderly neighbor, mrs. darmsetter, whenever he can. he also keeps the vow with his poker playing friends fish, bolan and quigley that they will not check the winning numbers against the big N lotto tickets they ante in their \" last man standing \" five card draw poker games, \" the last man standing \" taking the entire pot of tickets. being a stand - up guy is one of the reasons why his girlfriend carla loves him. on the night that he plans to propose to carla, but not before the regular poker night at his apartment, he finds a wallet on the street with no money and little identification in it, let alone no photo id, but he still goes to whatever measures he can to locate the wallets owner, who, according to the sole piece of id, is a fireman named avery phillips. just before his friends and avery arrive at his apartment, tepper also finds in the wallet a big N lotto ticket, a $ N million winning ticket for the draw that just happened that night, he having checked the numbers against their vow. he goes through mixed emotions about what to do, the money which would set him and carla up for their lives. having switched his own ticket with averys by the time his friends and avery arrive, tepper ends up out of necessity spending much of the night with the four, with his guilt sometimes getting the better of him. averys suspicious behavior also leads tepper to believe that he may not be everything he appears on the surface, especially as the police are on the lookout in the neighborhood for a suspect of an undisclosed nature. others may factor into what happens between tepper, avery and the $ N million ticket...'],\n",
              " ';': [\"the wolf taylor worth is a handsome man that is the weatherman in television. he has a great salary, a bmw, a fantastic apartment and a countryside house and has no difficulties to win the girls over. one day, his best friend and psychologist ned broudy, who is married with claire broudy with a three year - old girl, proposes a bet to taylor: his countryside house per claire's picasso. taylor shall propose three women chosen by ned and they must say yes to him. ned chooses the sexy fan of american football erin cooper, who is always surrounded by her friend tarry childs and other football players; his wealthy friend eleanor larimore, who is unhappily married; and his demanding and intellectual friend, the classical pianist veronica briskow. taylor accepts the bet, but when he wins, he calls it off since he is in love and proposed for real one of the selected women. what will happen when the other two women discover the truth?\"],\n",
              " '/': [\"mild mannered jack dawn has been secretly working as an accountant for the mob. he, his puerto rican wife jeri, his teen - aged daughter joan and his mother - in - law, all who were planning on going on the run, are murdered by the mob because jack was going to inform on them to the fbi. before they're killed, jack and jeri are able to send their six - year old son phil to jeri's friend and their neighbor, gloria swenson, for safe keeping. also with phil is the book which contains all the information jack was going to turn over. gloria and phil have an antagonistic relationship, not so much for who they are but what they are, phil a kid, and gloria a strange white woman who hates kids. as an ex - mistress of a mobster, gloria learns that the people that killed the dawns are old friends of hers. as gloria and phil go on the run both from the mob and from the authorities ( who believe she kidnapped phil ) throughout new york city, gloria has to come up with a plan on how best to save themselves, which is not easy because of their love / hate relationship and the fact that precocious phil has a mind of his own. that plan includes what to do with the book, but more importantly how to save phil as the mob would still be after him regardless of the book just in case he knows something about his fathers dealings. all through their ordeal, gloria is not averse to shooting to kill, especially if those who she is trying to kill are trying to kill her and phil first.\"],\n",
              " '%': ['in N, solar storms have killed N. N % of the worlds population and only N million people survive. the roc corporation has designed and built robots called automata pilgrim N to help to rebuild the world. these robots have two security protocols; they can neither harm humans nor alter themselves or other robots. when police officer sean wallace shoots a robot and claims that it was altering itself, roc insurance agent jacq vaucan is placed in charge of the investigation. soon he believes that there is a \" clocksmith \" illegally modifying the robots. jacq wants to live in the coast and asks his boss and friend robert bold to transfer him with his pregnant wife rachel vaucan to the coast. robert offers the possibility if jacq resolves the case. jacq and wallace go to a brothel where the modified robot cleo attends and wallace shoots its leg, expecting that the owner will lead them to the clocksmith. they meet dupre but she is not the clocksmith that is modifying the robots. soon jacq discovers who is the responsible for modifying the robots but the powers that be in roc believe that jacq is the one to be blamed.'],\n",
              " '&': [\"valentino is an ex adult film star very much in love with his girlfriend mary carmen.... and boyfriend gary. things take a tragic turn when valentino is rushed to the hospital after collapsing on a city street and is diagnosed with hiv / aids... forcing mary carmen and gary to push aside their jealousy & differences to take care of the man they both love while he is dying. ultimately finding comfort, understanding, and strength in the other. a beautiful modern love story with a fantastic cast. vincent d'onofrio is very charismatic, charming, and intense as valentino.....\"],\n",
              " 'ʼ': ['one night in los angeles, adrian grenier, star of the hbo series \" entourage, \" encountered N - year - old paparazzo austin visschedyk. astounded and inspired by the fast - talking, faster - snapping teen, grenier decided to turn the cameras on visschedyk in an effort to better understand this unique teenagerʼs world and gain insight into what motivates people to stalk the famous.'],\n",
              " 'ç': ['fifteen years after his fathers experiments with matter transmission fail, philippe delambre and his uncle françois attempt to create a matter transmission device on their own. however, their experiments have disastrous results, turning philippe into a horrible half - man, half - fly creature.'],\n",
              " 'ñ': [\"a large box arrives for donald on his birthday, three gifts inside. he unwraps one at a time, and each takes him on an adventure. the first is a movie projector with a film about the birds of south america; donald watches two cartoons, one tells of a penguin who longs to live on a tropical isle and the other about a gaucho boy who hunts the wild ostrich. the second gift is a pop - up book about brazil. inside is jose carioca, who takes donald to brazil's bahia for a mix of animation and live action: the two cartoon birds sing and dance with natives. the third gift is a piñata, accompanied by panchito. a ride on a magic serape takes the three amigos singing and dancing across mexico. ¡ole!\"],\n",
              " '¡': [\"a large box arrives for donald on his birthday, three gifts inside. he unwraps one at a time, and each takes him on an adventure. the first is a movie projector with a film about the birds of south america; donald watches two cartoons, one tells of a penguin who longs to live on a tropical isle and the other about a gaucho boy who hunts the wild ostrich. the second gift is a pop - up book about brazil. inside is jose carioca, who takes donald to brazil's bahia for a mix of animation and live action: the two cartoon birds sing and dance with natives. the third gift is a piñata, accompanied by panchito. a ride on a magic serape takes the three amigos singing and dancing across mexico. ¡ole!\"],\n",
              " 'ø': ['spoilers from the novel by o. v. falck - ytter titled \" hakon hakonson, a norse robinson crusoe \", a N - year - old norwegian boy ( smian smestad ) is obliged to go sea in N as a cabin boy in order to support his family, who are in humiliating financial straits. fortunately, he ships with his fathers good friend, jens ( trond peter stamsø munch ), who introduces him to ship life. haakons problems begin when he discovers but does not report a stowaway, a girl, mary ( louisa haigh ), of about his own age, and then involves jens in the crime as well. meanwhile, the ship has become secretly infiltrated with pirates, and, as tension around the crime mounts, a storm causes the ship to founder and all aboard are thrown upon their own resources. haakon awakes alone on the beach of a jungle island of singular beauty, where he finds the recent remains of pirates, including their enormous treasure and proof that an impostor aboard his ship was one of them, the notorious merrick ( gabriel byrne ). stranded alone, he experiences elation and melancholy as he explores the island learning its secrets and making it his new home, all the while trying to devise a means of escape. after a number of months, he discovers jens and mary, and together they begin to settle into island life as mary and haakon quickly become quite devoted to each other. but a cohort of the pirates has survived as well, including merrick, who, as haakon has anticipated, returns to recover his treasure. chases, rescues, and battles ensue across the island, more merry than sinister, until, with the help of his friends, haakon prevails through cleverness and heroism. in perhaps the most touching moment of the film, he returns home to his parents in norway immensely wealthy and in a position to put to shame all those who have in the past humiliated his heretofore poverty - stricken family, and introduces them to mary, who, he says, \" will be staying with us for a while \".'],\n",
              " '=': [\"russ raymond, america's number one crooner, disappears and joins the navy under the name tommy halstead. dorothy roberts, a magazine journalist, is intent on finding out what happened to russ and she tries everything she can to get a picture of him to prove he's russ raymond. tommy's friends, pomeroy watson and smokey adams, help him while pomeroy writes love letters to patty andrews. but because smokey makes pomeroy lie about himself in the letters, and when patty comes to the navy base, she's furious at pomeroy. when pomeroy, smokey, tommy and the andrews sisters set sail for hawaii, pomeroy discovers there's a tomato in the potato locker, and she's been snapping shots of tommy the whole trip. whether pomeroy's proving that N x N = N - three different ways, having smokey help him play ship captain for patty, or falling out of his hammock, its an abbott and costello classic.\"],\n",
              " '½': ['good girls merritt, melanie, tuggle and angie - all students at mid - western penmore university - are planning on going to fort lauderdale, florida for spring break to get away from the mid - western snow despite not having much money to spend once there. on the drive down, they admit their real purpose is to go where the boys are. the statuesque N \\' N ½ \" tall tuggle just wants to find someone who wont be intimidated by her height. because of her size, she sees herself as a \" baby - making factory \" - only if it is under legal circumstances. she meets the tall but kooky tv ( so named because of his want to work in television ), who is more interested in sex than he is in matrimony. tomboy and perpetual fourth wheel angie ends up with esoteric musician basil more out of circumstance than want, but angie tries to find some common ground with him. naive melanie is the extreme romantic, who dreams of being swept off her feet and proposed to by an ivy leaguer. she gets half her wish when she meets a bunch of yale boys, but she soon finds out that romance in spring break fort lauderdale may not be all that she envisions. and bright but academically underachieving merritt has the most liberal views about the entire male - female mating ritual, she who believes in living together before marriage and premarital sex, only however with someone you love. she catches the eye of the wealthy ryder smith, also an ivy leaguer attending brown, with who she may test her views.'],\n",
              " '°': [\"new yorkers paul bratter and corie bratter nee banks have just gotten married. he is a stuffed shirt just starting his career as a lawyer. she is an independently minded free spirit who prides herself on doing the illogical purely out of a sense of adventure, such acts as walking through washington square park barefoot when its N °f outside. their six day honeymoon at the plaza hotel shows that they can get to know each other easily in the biblical sense. but they will see if they can get to know each other in their real life when they move into their first apartment, a cozy ( in other words, small ), slightly broken down top floor unit in a five story walk - up. while corie joyfully bounds up and down the stairs, paul, always winded after the fact, hates the fact of having to walk up the six flights of stairs, if one includes the stairs that comprise the outside front stoop. beyond the issues with the apartment itself, paul and corie will have to deal with an odd assortment of neighbors, most specifically eccentric senior victor velasco, who lives in the unusual attic and who would like to consider himself a dirty old man. corie, worried about her single straight - laced mother ethel banks, wants to set her up with victor. without corie or paul truly realizing it, ethel and victor as a twosome is as illogical as corie and paul. what happens between ethel and victor may be a predictor if corie and paul's marriage can make it in the long run.\"]}"
            ]
          },
          "metadata": {},
          "execution_count": 14
        }
      ]
    },
    {
      "cell_type": "code",
      "source": [
        "from sklearn.feature_extraction.text import ENGLISH_STOP_WORDS\n",
        "import re\n",
        "\n",
        "# Función para limpiar el texto\n",
        "def clean_text(text):\n",
        "    # 1. Eliminar caracteres especiales\n",
        "    # text = re.sub(r'[^a-zA-Z\\s]', '', text, re.I|re.A)\n",
        "    # 2. Convertir en minúsculas\n",
        "    text = text.lower()\n",
        "    # # 3. Eliminar stopwords\n",
        "    # text = ' '.join([word for word in text.split() if word not in ENGLISH_STOP_WORDS])\n",
        "    return text\n",
        "\n",
        "# Aplicar la función de limpieza a la columna de trama de tus DataFrames\n",
        "dataTraining['plot'] = dataTraining['plot'].apply(clean_text)\n",
        "dataTesting['plot'] = dataTesting['plot'].apply(clean_text)\n"
      ],
      "metadata": {
        "id": "ZjCvdONwTb2A"
      },
      "execution_count": 15,
      "outputs": []
    },
    {
      "cell_type": "code",
      "source": [
        "dataTraining.head()"
      ],
      "metadata": {
        "colab": {
          "base_uri": "https://localhost:8080/",
          "height": 206
        },
        "id": "e6rrdJFtTbz0",
        "outputId": "da254705-a2e3-4bed-aa70-46b58fad5c79"
      },
      "execution_count": 16,
      "outputs": [
        {
          "output_type": "execute_result",
          "data": {
            "text/plain": [
              "      year                      title  \\\n",
              "3107  2003                       Most   \n",
              "900   2008  How to Be a Serial Killer   \n",
              "6724  1941             A Woman's Face   \n",
              "4704  1954            Executive Suite   \n",
              "2582  1990              Narrow Margin   \n",
              "\n",
              "                                                   plot  \\\n",
              "3107  most is the story of a single father who takes...   \n",
              "900   a serial killer decides to teach the secrets o...   \n",
              "6724  in sweden, a female blackmailer with a disfigu...   \n",
              "4704  in a friday afternoon in new york, the preside...   \n",
              "2582  in los angeles, the editor of a publishing hou...   \n",
              "\n",
              "                                  genres  rating  \n",
              "3107                  ['Short', 'Drama']     8.0  \n",
              "900        ['Comedy', 'Crime', 'Horror']     5.6  \n",
              "6724  ['Drama', 'Film-Noir', 'Thriller']     7.2  \n",
              "4704                           ['Drama']     7.4  \n",
              "2582     ['Action', 'Crime', 'Thriller']     6.6  "
            ],
            "text/html": [
              "\n",
              "  <div id=\"df-8d9f7651-01ee-4ea6-b659-ae04d6a0aad5\" class=\"colab-df-container\">\n",
              "    <div>\n",
              "<style scoped>\n",
              "    .dataframe tbody tr th:only-of-type {\n",
              "        vertical-align: middle;\n",
              "    }\n",
              "\n",
              "    .dataframe tbody tr th {\n",
              "        vertical-align: top;\n",
              "    }\n",
              "\n",
              "    .dataframe thead th {\n",
              "        text-align: right;\n",
              "    }\n",
              "</style>\n",
              "<table border=\"1\" class=\"dataframe\">\n",
              "  <thead>\n",
              "    <tr style=\"text-align: right;\">\n",
              "      <th></th>\n",
              "      <th>year</th>\n",
              "      <th>title</th>\n",
              "      <th>plot</th>\n",
              "      <th>genres</th>\n",
              "      <th>rating</th>\n",
              "    </tr>\n",
              "  </thead>\n",
              "  <tbody>\n",
              "    <tr>\n",
              "      <th>3107</th>\n",
              "      <td>2003</td>\n",
              "      <td>Most</td>\n",
              "      <td>most is the story of a single father who takes...</td>\n",
              "      <td>['Short', 'Drama']</td>\n",
              "      <td>8.0</td>\n",
              "    </tr>\n",
              "    <tr>\n",
              "      <th>900</th>\n",
              "      <td>2008</td>\n",
              "      <td>How to Be a Serial Killer</td>\n",
              "      <td>a serial killer decides to teach the secrets o...</td>\n",
              "      <td>['Comedy', 'Crime', 'Horror']</td>\n",
              "      <td>5.6</td>\n",
              "    </tr>\n",
              "    <tr>\n",
              "      <th>6724</th>\n",
              "      <td>1941</td>\n",
              "      <td>A Woman's Face</td>\n",
              "      <td>in sweden, a female blackmailer with a disfigu...</td>\n",
              "      <td>['Drama', 'Film-Noir', 'Thriller']</td>\n",
              "      <td>7.2</td>\n",
              "    </tr>\n",
              "    <tr>\n",
              "      <th>4704</th>\n",
              "      <td>1954</td>\n",
              "      <td>Executive Suite</td>\n",
              "      <td>in a friday afternoon in new york, the preside...</td>\n",
              "      <td>['Drama']</td>\n",
              "      <td>7.4</td>\n",
              "    </tr>\n",
              "    <tr>\n",
              "      <th>2582</th>\n",
              "      <td>1990</td>\n",
              "      <td>Narrow Margin</td>\n",
              "      <td>in los angeles, the editor of a publishing hou...</td>\n",
              "      <td>['Action', 'Crime', 'Thriller']</td>\n",
              "      <td>6.6</td>\n",
              "    </tr>\n",
              "  </tbody>\n",
              "</table>\n",
              "</div>\n",
              "    <div class=\"colab-df-buttons\">\n",
              "\n",
              "  <div class=\"colab-df-container\">\n",
              "    <button class=\"colab-df-convert\" onclick=\"convertToInteractive('df-8d9f7651-01ee-4ea6-b659-ae04d6a0aad5')\"\n",
              "            title=\"Convert this dataframe to an interactive table.\"\n",
              "            style=\"display:none;\">\n",
              "\n",
              "  <svg xmlns=\"http://www.w3.org/2000/svg\" height=\"24px\" viewBox=\"0 -960 960 960\">\n",
              "    <path d=\"M120-120v-720h720v720H120Zm60-500h600v-160H180v160Zm220 220h160v-160H400v160Zm0 220h160v-160H400v160ZM180-400h160v-160H180v160Zm440 0h160v-160H620v160ZM180-180h160v-160H180v160Zm440 0h160v-160H620v160Z\"/>\n",
              "  </svg>\n",
              "    </button>\n",
              "\n",
              "  <style>\n",
              "    .colab-df-container {\n",
              "      display:flex;\n",
              "      gap: 12px;\n",
              "    }\n",
              "\n",
              "    .colab-df-convert {\n",
              "      background-color: #E8F0FE;\n",
              "      border: none;\n",
              "      border-radius: 50%;\n",
              "      cursor: pointer;\n",
              "      display: none;\n",
              "      fill: #1967D2;\n",
              "      height: 32px;\n",
              "      padding: 0 0 0 0;\n",
              "      width: 32px;\n",
              "    }\n",
              "\n",
              "    .colab-df-convert:hover {\n",
              "      background-color: #E2EBFA;\n",
              "      box-shadow: 0px 1px 2px rgba(60, 64, 67, 0.3), 0px 1px 3px 1px rgba(60, 64, 67, 0.15);\n",
              "      fill: #174EA6;\n",
              "    }\n",
              "\n",
              "    .colab-df-buttons div {\n",
              "      margin-bottom: 4px;\n",
              "    }\n",
              "\n",
              "    [theme=dark] .colab-df-convert {\n",
              "      background-color: #3B4455;\n",
              "      fill: #D2E3FC;\n",
              "    }\n",
              "\n",
              "    [theme=dark] .colab-df-convert:hover {\n",
              "      background-color: #434B5C;\n",
              "      box-shadow: 0px 1px 3px 1px rgba(0, 0, 0, 0.15);\n",
              "      filter: drop-shadow(0px 1px 2px rgba(0, 0, 0, 0.3));\n",
              "      fill: #FFFFFF;\n",
              "    }\n",
              "  </style>\n",
              "\n",
              "    <script>\n",
              "      const buttonEl =\n",
              "        document.querySelector('#df-8d9f7651-01ee-4ea6-b659-ae04d6a0aad5 button.colab-df-convert');\n",
              "      buttonEl.style.display =\n",
              "        google.colab.kernel.accessAllowed ? 'block' : 'none';\n",
              "\n",
              "      async function convertToInteractive(key) {\n",
              "        const element = document.querySelector('#df-8d9f7651-01ee-4ea6-b659-ae04d6a0aad5');\n",
              "        const dataTable =\n",
              "          await google.colab.kernel.invokeFunction('convertToInteractive',\n",
              "                                                    [key], {});\n",
              "        if (!dataTable) return;\n",
              "\n",
              "        const docLinkHtml = 'Like what you see? Visit the ' +\n",
              "          '<a target=\"_blank\" href=https://colab.research.google.com/notebooks/data_table.ipynb>data table notebook</a>'\n",
              "          + ' to learn more about interactive tables.';\n",
              "        element.innerHTML = '';\n",
              "        dataTable['output_type'] = 'display_data';\n",
              "        await google.colab.output.renderOutput(dataTable, element);\n",
              "        const docLink = document.createElement('div');\n",
              "        docLink.innerHTML = docLinkHtml;\n",
              "        element.appendChild(docLink);\n",
              "      }\n",
              "    </script>\n",
              "  </div>\n",
              "\n",
              "\n",
              "<div id=\"df-513f5fa8-c313-48f3-9334-f6bd2b1051a0\">\n",
              "  <button class=\"colab-df-quickchart\" onclick=\"quickchart('df-513f5fa8-c313-48f3-9334-f6bd2b1051a0')\"\n",
              "            title=\"Suggest charts\"\n",
              "            style=\"display:none;\">\n",
              "\n",
              "<svg xmlns=\"http://www.w3.org/2000/svg\" height=\"24px\"viewBox=\"0 0 24 24\"\n",
              "     width=\"24px\">\n",
              "    <g>\n",
              "        <path d=\"M19 3H5c-1.1 0-2 .9-2 2v14c0 1.1.9 2 2 2h14c1.1 0 2-.9 2-2V5c0-1.1-.9-2-2-2zM9 17H7v-7h2v7zm4 0h-2V7h2v10zm4 0h-2v-4h2v4z\"/>\n",
              "    </g>\n",
              "</svg>\n",
              "  </button>\n",
              "\n",
              "<style>\n",
              "  .colab-df-quickchart {\n",
              "      --bg-color: #E8F0FE;\n",
              "      --fill-color: #1967D2;\n",
              "      --hover-bg-color: #E2EBFA;\n",
              "      --hover-fill-color: #174EA6;\n",
              "      --disabled-fill-color: #AAA;\n",
              "      --disabled-bg-color: #DDD;\n",
              "  }\n",
              "\n",
              "  [theme=dark] .colab-df-quickchart {\n",
              "      --bg-color: #3B4455;\n",
              "      --fill-color: #D2E3FC;\n",
              "      --hover-bg-color: #434B5C;\n",
              "      --hover-fill-color: #FFFFFF;\n",
              "      --disabled-bg-color: #3B4455;\n",
              "      --disabled-fill-color: #666;\n",
              "  }\n",
              "\n",
              "  .colab-df-quickchart {\n",
              "    background-color: var(--bg-color);\n",
              "    border: none;\n",
              "    border-radius: 50%;\n",
              "    cursor: pointer;\n",
              "    display: none;\n",
              "    fill: var(--fill-color);\n",
              "    height: 32px;\n",
              "    padding: 0;\n",
              "    width: 32px;\n",
              "  }\n",
              "\n",
              "  .colab-df-quickchart:hover {\n",
              "    background-color: var(--hover-bg-color);\n",
              "    box-shadow: 0 1px 2px rgba(60, 64, 67, 0.3), 0 1px 3px 1px rgba(60, 64, 67, 0.15);\n",
              "    fill: var(--button-hover-fill-color);\n",
              "  }\n",
              "\n",
              "  .colab-df-quickchart-complete:disabled,\n",
              "  .colab-df-quickchart-complete:disabled:hover {\n",
              "    background-color: var(--disabled-bg-color);\n",
              "    fill: var(--disabled-fill-color);\n",
              "    box-shadow: none;\n",
              "  }\n",
              "\n",
              "  .colab-df-spinner {\n",
              "    border: 2px solid var(--fill-color);\n",
              "    border-color: transparent;\n",
              "    border-bottom-color: var(--fill-color);\n",
              "    animation:\n",
              "      spin 1s steps(1) infinite;\n",
              "  }\n",
              "\n",
              "  @keyframes spin {\n",
              "    0% {\n",
              "      border-color: transparent;\n",
              "      border-bottom-color: var(--fill-color);\n",
              "      border-left-color: var(--fill-color);\n",
              "    }\n",
              "    20% {\n",
              "      border-color: transparent;\n",
              "      border-left-color: var(--fill-color);\n",
              "      border-top-color: var(--fill-color);\n",
              "    }\n",
              "    30% {\n",
              "      border-color: transparent;\n",
              "      border-left-color: var(--fill-color);\n",
              "      border-top-color: var(--fill-color);\n",
              "      border-right-color: var(--fill-color);\n",
              "    }\n",
              "    40% {\n",
              "      border-color: transparent;\n",
              "      border-right-color: var(--fill-color);\n",
              "      border-top-color: var(--fill-color);\n",
              "    }\n",
              "    60% {\n",
              "      border-color: transparent;\n",
              "      border-right-color: var(--fill-color);\n",
              "    }\n",
              "    80% {\n",
              "      border-color: transparent;\n",
              "      border-right-color: var(--fill-color);\n",
              "      border-bottom-color: var(--fill-color);\n",
              "    }\n",
              "    90% {\n",
              "      border-color: transparent;\n",
              "      border-bottom-color: var(--fill-color);\n",
              "    }\n",
              "  }\n",
              "</style>\n",
              "\n",
              "  <script>\n",
              "    async function quickchart(key) {\n",
              "      const quickchartButtonEl =\n",
              "        document.querySelector('#' + key + ' button');\n",
              "      quickchartButtonEl.disabled = true;  // To prevent multiple clicks.\n",
              "      quickchartButtonEl.classList.add('colab-df-spinner');\n",
              "      try {\n",
              "        const charts = await google.colab.kernel.invokeFunction(\n",
              "            'suggestCharts', [key], {});\n",
              "      } catch (error) {\n",
              "        console.error('Error during call to suggestCharts:', error);\n",
              "      }\n",
              "      quickchartButtonEl.classList.remove('colab-df-spinner');\n",
              "      quickchartButtonEl.classList.add('colab-df-quickchart-complete');\n",
              "    }\n",
              "    (() => {\n",
              "      let quickchartButtonEl =\n",
              "        document.querySelector('#df-513f5fa8-c313-48f3-9334-f6bd2b1051a0 button');\n",
              "      quickchartButtonEl.style.display =\n",
              "        google.colab.kernel.accessAllowed ? 'block' : 'none';\n",
              "    })();\n",
              "  </script>\n",
              "</div>\n",
              "\n",
              "    </div>\n",
              "  </div>\n"
            ],
            "application/vnd.google.colaboratory.intrinsic+json": {
              "type": "dataframe",
              "variable_name": "dataTraining",
              "summary": "{\n  \"name\": \"dataTraining\",\n  \"rows\": 7895,\n  \"fields\": [\n    {\n      \"column\": \"year\",\n      \"properties\": {\n        \"dtype\": \"number\",\n        \"std\": 22,\n        \"min\": 1894,\n        \"max\": 2015,\n        \"num_unique_values\": 106,\n        \"samples\": [\n          1910,\n          2001,\n          1990\n        ],\n        \"semantic_type\": \"\",\n        \"description\": \"\"\n      }\n    },\n    {\n      \"column\": \"title\",\n      \"properties\": {\n        \"dtype\": \"string\",\n        \"num_unique_values\": 7729,\n        \"samples\": [\n          \"Zero Effect\",\n          \"The Boogey Man\",\n          \"No Impact Man: The Documentary\"\n        ],\n        \"semantic_type\": \"\",\n        \"description\": \"\"\n      }\n    },\n    {\n      \"column\": \"plot\",\n      \"properties\": {\n        \"dtype\": \"string\",\n        \"num_unique_values\": 7894,\n        \"samples\": [\n          \"in an epic story of breathtaking scale, disneynature's new true life adventure \\\" bears \\\" showcases a year in the life of a bear family as two impressionable young cubs are taught life's most important lessons. set against a majestic alaskan backdrop teeming with life, their journey begins as winter comes to an end and the bears emerge from hibernation to face the bitter cold. the world outside is exciting - but risky - as the cubs' playful descent down the mountain carries with it a looming threat of avalanches. as the season changes from spring to summer, the brown bears must work hard to find food - ultimately feasting at a plentiful salmon run - while staying safe from rival male bears and predators, including an ever - present wolf. \\\" bears \\\" captures the fast - moving action and suspense of life in one of the planet's last great wildernesses - alaska!\",\n          \"during world war ii south sea beachcomber walter eckland is persuaded to spy on planes passing over his island. he gets more than he bargained for as schoolteacher catherine frenau arrives on the run from the japanese with her pupils in tow!\",\n          \"robert neville is a scientist who was unable to stop the spread of the terrible virus that was incurable and man - made. immune, neville is now the last human survivor in what is left of new york city and perhaps the world. for three years, neville has faithfully sent out daily radio messages, desperate to find any other survivors who might be out there. but he is not alone. mutant victims of the plague - - the infected - - lurk in the shadows... watching neville's every move... waiting for him to make a fatal mistake. perhaps mankind's last, best hope, neville is driven by only one remaining mission: to find a way to reverse the effects of the virus using his own immune blood. but he knows he is outnumbered... and quickly running out of time.\"\n        ],\n        \"semantic_type\": \"\",\n        \"description\": \"\"\n      }\n    },\n    {\n      \"column\": \"genres\",\n      \"properties\": {\n        \"dtype\": \"category\",\n        \"num_unique_values\": 1336,\n        \"samples\": [\n          \"['Comedy', 'Drama', 'Family', 'Music']\",\n          \"['Comedy', 'Drama', 'Sci-Fi', 'War']\",\n          \"['Adventure', 'Comedy', 'Drama', 'Family', 'Sport']\"\n        ],\n        \"semantic_type\": \"\",\n        \"description\": \"\"\n      }\n    },\n    {\n      \"column\": \"rating\",\n      \"properties\": {\n        \"dtype\": \"number\",\n        \"std\": 1.0782600520106211,\n        \"min\": 1.2,\n        \"max\": 9.3,\n        \"num_unique_values\": 76,\n        \"samples\": [\n          6.6,\n          3.7,\n          4.6\n        ],\n        \"semantic_type\": \"\",\n        \"description\": \"\"\n      }\n    }\n  ]\n}"
            }
          },
          "metadata": {},
          "execution_count": 16
        }
      ]
    },
    {
      "cell_type": "code",
      "source": [],
      "metadata": {
        "id": "qQa210uzTbxz"
      },
      "execution_count": 16,
      "outputs": []
    },
    {
      "cell_type": "code",
      "source": [],
      "metadata": {
        "id": "80VHHZKMTbvt"
      },
      "execution_count": 16,
      "outputs": []
    },
    {
      "cell_type": "markdown",
      "source": [
        "# Modelo 1, Orignal"
      ],
      "metadata": {
        "id": "55I_ZQxes_5J"
      }
    },
    {
      "cell_type": "markdown",
      "metadata": {
        "id": "Q0JTfcx-nx_v"
      },
      "source": [
        "### Create count vectorizer\n"
      ]
    },
    {
      "cell_type": "code",
      "execution_count": 17,
      "metadata": {
        "colab": {
          "base_uri": "https://localhost:8080/"
        },
        "id": "TOtOhavanx_v",
        "outputId": "62302cb2-318b-46f7-fd5d-20e945e2642b"
      },
      "outputs": [
        {
          "output_type": "execute_result",
          "data": {
            "text/plain": [
              "(7895, 1000)"
            ]
          },
          "metadata": {},
          "execution_count": 17
        }
      ],
      "source": [
        "vect = CountVectorizer(max_features=1000)\n",
        "X_dtm = vect.fit_transform(dataTraining['plot'])\n",
        "X_dtm.shape"
      ]
    },
    {
      "cell_type": "code",
      "execution_count": 18,
      "metadata": {
        "colab": {
          "base_uri": "https://localhost:8080/"
        },
        "id": "-WmoGe7hnx_v",
        "outputId": "c74a0266-7b37-4f86-d18f-d563368cc8ef"
      },
      "outputs": [
        {
          "output_type": "stream",
          "name": "stdout",
          "text": [
            "['most', 'is', 'the', 'story', 'of', 'single', 'father', 'who', 'takes', 'his', 'year', 'old', 'son', 'to', 'work', 'with', 'him', 'at', 'where', 'he', 'day', 'before', 'boy', 'meets', 'woman', 'train', 'drug', 'goes', 'into', 'room', 'and', 'tells', 'stay', 'ship', 'comes', 'though', 'it', 'arrive', 'an', 'later', 'happens', 'sees', 'this', 'tries', 'not', 'able', 'see', 'just', 'as', 'falls']\n"
          ]
        }
      ],
      "source": [
        "print(list(vect.vocabulary_.keys())[:50])"
      ]
    },
    {
      "cell_type": "markdown",
      "metadata": {
        "id": "LxIraRIgnx_w"
      },
      "source": [
        "### Create y"
      ]
    },
    {
      "cell_type": "code",
      "execution_count": 19,
      "metadata": {
        "id": "jJgReT6nnx_w",
        "colab": {
          "base_uri": "https://localhost:8080/"
        },
        "outputId": "7f5af7e1-a010-489f-9a94-9be0af3f727c"
      },
      "outputs": [
        {
          "output_type": "stream",
          "name": "stdout",
          "text": [
            "<class 'str'>\n"
          ]
        }
      ],
      "source": [
        "# Verificar el tipo de dato de los primeros elementos para entender el problema\n",
        "print(type(dataTraining['genres'].iloc[0]))\n"
      ]
    },
    {
      "cell_type": "code",
      "source": [
        "# Ajuste condicional para aplicar eval() solo si es necesario\n",
        "dataTraining['genres'] = dataTraining['genres'].apply(lambda x: eval(x) if isinstance(x, str) else x)\n",
        "\n",
        "# Proceder con la binarización\n",
        "le = MultiLabelBinarizer()\n",
        "y_genres = le.fit_transform(dataTraining['genres'])"
      ],
      "metadata": {
        "id": "bW4cHihGVEj6"
      },
      "execution_count": 20,
      "outputs": []
    },
    {
      "cell_type": "code",
      "execution_count": 21,
      "metadata": {
        "colab": {
          "base_uri": "https://localhost:8080/"
        },
        "id": "Fp56UvD0nx_w",
        "outputId": "0c89944a-83c2-4a04-a64e-79f161e94bcf"
      },
      "outputs": [
        {
          "output_type": "execute_result",
          "data": {
            "text/plain": [
              "array([[0, 0, 0, ..., 0, 0, 0],\n",
              "       [0, 0, 0, ..., 0, 0, 0],\n",
              "       [0, 0, 0, ..., 1, 0, 0],\n",
              "       ...,\n",
              "       [0, 1, 0, ..., 0, 0, 0],\n",
              "       [0, 1, 1, ..., 0, 0, 0],\n",
              "       [0, 1, 1, ..., 0, 0, 0]])"
            ]
          },
          "metadata": {},
          "execution_count": 21
        }
      ],
      "source": [
        "y_genres"
      ]
    },
    {
      "cell_type": "code",
      "execution_count": 22,
      "metadata": {
        "id": "uzJ-6k7tnx_w"
      },
      "outputs": [],
      "source": [
        "X_train, X_test, y_train_genres, y_test_genres = train_test_split(X_dtm, y_genres, test_size=0.20, random_state=42)"
      ]
    },
    {
      "cell_type": "markdown",
      "metadata": {
        "id": "_A8GJ0oBnx_x"
      },
      "source": [
        "### Train multi-class multi-label model"
      ]
    },
    {
      "cell_type": "code",
      "execution_count": 23,
      "metadata": {
        "id": "5vfswfx_nx_x"
      },
      "outputs": [],
      "source": [
        "clf = OneVsRestClassifier(RandomForestClassifier(n_jobs=-1, n_estimators=100, max_depth=10, random_state=42))"
      ]
    },
    {
      "cell_type": "code",
      "execution_count": 24,
      "metadata": {
        "colab": {
          "base_uri": "https://localhost:8080/",
          "height": 117
        },
        "id": "zIhINqcmnx_x",
        "outputId": "25539dfe-00a2-4270-9fdc-58a01f605622"
      },
      "outputs": [
        {
          "output_type": "execute_result",
          "data": {
            "text/plain": [
              "OneVsRestClassifier(estimator=RandomForestClassifier(max_depth=10, n_jobs=-1,\n",
              "                                                     random_state=42))"
            ],
            "text/html": [
              "<style>#sk-container-id-1 {color: black;background-color: white;}#sk-container-id-1 pre{padding: 0;}#sk-container-id-1 div.sk-toggleable {background-color: white;}#sk-container-id-1 label.sk-toggleable__label {cursor: pointer;display: block;width: 100%;margin-bottom: 0;padding: 0.3em;box-sizing: border-box;text-align: center;}#sk-container-id-1 label.sk-toggleable__label-arrow:before {content: \"▸\";float: left;margin-right: 0.25em;color: #696969;}#sk-container-id-1 label.sk-toggleable__label-arrow:hover:before {color: black;}#sk-container-id-1 div.sk-estimator:hover label.sk-toggleable__label-arrow:before {color: black;}#sk-container-id-1 div.sk-toggleable__content {max-height: 0;max-width: 0;overflow: hidden;text-align: left;background-color: #f0f8ff;}#sk-container-id-1 div.sk-toggleable__content pre {margin: 0.2em;color: black;border-radius: 0.25em;background-color: #f0f8ff;}#sk-container-id-1 input.sk-toggleable__control:checked~div.sk-toggleable__content {max-height: 200px;max-width: 100%;overflow: auto;}#sk-container-id-1 input.sk-toggleable__control:checked~label.sk-toggleable__label-arrow:before {content: \"▾\";}#sk-container-id-1 div.sk-estimator input.sk-toggleable__control:checked~label.sk-toggleable__label {background-color: #d4ebff;}#sk-container-id-1 div.sk-label input.sk-toggleable__control:checked~label.sk-toggleable__label {background-color: #d4ebff;}#sk-container-id-1 input.sk-hidden--visually {border: 0;clip: rect(1px 1px 1px 1px);clip: rect(1px, 1px, 1px, 1px);height: 1px;margin: -1px;overflow: hidden;padding: 0;position: absolute;width: 1px;}#sk-container-id-1 div.sk-estimator {font-family: monospace;background-color: #f0f8ff;border: 1px dotted black;border-radius: 0.25em;box-sizing: border-box;margin-bottom: 0.5em;}#sk-container-id-1 div.sk-estimator:hover {background-color: #d4ebff;}#sk-container-id-1 div.sk-parallel-item::after {content: \"\";width: 100%;border-bottom: 1px solid gray;flex-grow: 1;}#sk-container-id-1 div.sk-label:hover label.sk-toggleable__label {background-color: #d4ebff;}#sk-container-id-1 div.sk-serial::before {content: \"\";position: absolute;border-left: 1px solid gray;box-sizing: border-box;top: 0;bottom: 0;left: 50%;z-index: 0;}#sk-container-id-1 div.sk-serial {display: flex;flex-direction: column;align-items: center;background-color: white;padding-right: 0.2em;padding-left: 0.2em;position: relative;}#sk-container-id-1 div.sk-item {position: relative;z-index: 1;}#sk-container-id-1 div.sk-parallel {display: flex;align-items: stretch;justify-content: center;background-color: white;position: relative;}#sk-container-id-1 div.sk-item::before, #sk-container-id-1 div.sk-parallel-item::before {content: \"\";position: absolute;border-left: 1px solid gray;box-sizing: border-box;top: 0;bottom: 0;left: 50%;z-index: -1;}#sk-container-id-1 div.sk-parallel-item {display: flex;flex-direction: column;z-index: 1;position: relative;background-color: white;}#sk-container-id-1 div.sk-parallel-item:first-child::after {align-self: flex-end;width: 50%;}#sk-container-id-1 div.sk-parallel-item:last-child::after {align-self: flex-start;width: 50%;}#sk-container-id-1 div.sk-parallel-item:only-child::after {width: 0;}#sk-container-id-1 div.sk-dashed-wrapped {border: 1px dashed gray;margin: 0 0.4em 0.5em 0.4em;box-sizing: border-box;padding-bottom: 0.4em;background-color: white;}#sk-container-id-1 div.sk-label label {font-family: monospace;font-weight: bold;display: inline-block;line-height: 1.2em;}#sk-container-id-1 div.sk-label-container {text-align: center;}#sk-container-id-1 div.sk-container {/* jupyter's `normalize.less` sets `[hidden] { display: none; }` but bootstrap.min.css set `[hidden] { display: none !important; }` so we also need the `!important` here to be able to override the default hidden behavior on the sphinx rendered scikit-learn.org. See: https://github.com/scikit-learn/scikit-learn/issues/21755 */display: inline-block !important;position: relative;}#sk-container-id-1 div.sk-text-repr-fallback {display: none;}</style><div id=\"sk-container-id-1\" class=\"sk-top-container\"><div class=\"sk-text-repr-fallback\"><pre>OneVsRestClassifier(estimator=RandomForestClassifier(max_depth=10, n_jobs=-1,\n",
              "                                                     random_state=42))</pre><b>In a Jupyter environment, please rerun this cell to show the HTML representation or trust the notebook. <br />On GitHub, the HTML representation is unable to render, please try loading this page with nbviewer.org.</b></div><div class=\"sk-container\" hidden><div class=\"sk-item sk-dashed-wrapped\"><div class=\"sk-label-container\"><div class=\"sk-label sk-toggleable\"><input class=\"sk-toggleable__control sk-hidden--visually\" id=\"sk-estimator-id-1\" type=\"checkbox\" ><label for=\"sk-estimator-id-1\" class=\"sk-toggleable__label sk-toggleable__label-arrow\">OneVsRestClassifier</label><div class=\"sk-toggleable__content\"><pre>OneVsRestClassifier(estimator=RandomForestClassifier(max_depth=10, n_jobs=-1,\n",
              "                                                     random_state=42))</pre></div></div></div><div class=\"sk-parallel\"><div class=\"sk-parallel-item\"><div class=\"sk-item\"><div class=\"sk-label-container\"><div class=\"sk-label sk-toggleable\"><input class=\"sk-toggleable__control sk-hidden--visually\" id=\"sk-estimator-id-2\" type=\"checkbox\" ><label for=\"sk-estimator-id-2\" class=\"sk-toggleable__label sk-toggleable__label-arrow\">estimator: RandomForestClassifier</label><div class=\"sk-toggleable__content\"><pre>RandomForestClassifier(max_depth=10, n_jobs=-1, random_state=42)</pre></div></div></div><div class=\"sk-serial\"><div class=\"sk-item\"><div class=\"sk-estimator sk-toggleable\"><input class=\"sk-toggleable__control sk-hidden--visually\" id=\"sk-estimator-id-3\" type=\"checkbox\" ><label for=\"sk-estimator-id-3\" class=\"sk-toggleable__label sk-toggleable__label-arrow\">RandomForestClassifier</label><div class=\"sk-toggleable__content\"><pre>RandomForestClassifier(max_depth=10, n_jobs=-1, random_state=42)</pre></div></div></div></div></div></div></div></div></div></div>"
            ]
          },
          "metadata": {},
          "execution_count": 24
        }
      ],
      "source": [
        "clf.fit(X_train, y_train_genres)"
      ]
    },
    {
      "cell_type": "code",
      "execution_count": 25,
      "metadata": {
        "id": "fsCTAiqJnx_x"
      },
      "outputs": [],
      "source": [
        "y_pred_genres = clf.predict_proba(X_test)"
      ]
    },
    {
      "cell_type": "code",
      "execution_count": 26,
      "metadata": {
        "colab": {
          "base_uri": "https://localhost:8080/"
        },
        "id": "dd9jPPjknx_x",
        "outputId": "62e2483b-f9ce-4667-9708-68939d398c79"
      },
      "outputs": [
        {
          "output_type": "execute_result",
          "data": {
            "text/plain": [
              "0.7917311245652595"
            ]
          },
          "metadata": {},
          "execution_count": 26
        }
      ],
      "source": [
        "roc_auc_score(y_test_genres, y_pred_genres, average='macro')"
      ]
    },
    {
      "cell_type": "code",
      "execution_count": 27,
      "metadata": {
        "id": "y5wH_qTnnx_y"
      },
      "outputs": [],
      "source": [
        "# Obtener las etiquetas predichas\n",
        "y_pred_genres_labels = clf.predict(X_test)"
      ]
    },
    {
      "cell_type": "code",
      "source": [
        "from sklearn.metrics import accuracy_score, recall_score, precision_score, f1_score, roc_auc_score\n",
        "\n",
        "\n",
        "accuracy = accuracy_score(y_test_genres, y_pred_genres_labels)\n",
        "recall = recall_score(y_test_genres, y_pred_genres_labels, average='macro')\n",
        "precision = precision_score(y_test_genres, y_pred_genres_labels, average='macro')\n",
        "f1 = f1_score(y_test_genres, y_pred_genres_labels, average='macro')\n",
        "roc_auc = roc_auc_score(y_test_genres, y_pred_genres, average='macro')\n",
        "\n",
        "print(f\"Accuracy: {accuracy}\")\n",
        "print(f\"Recall: {recall}\")\n",
        "print(f\"Precision: {precision}\")\n",
        "print(f\"F1 Score: {f1}\")\n",
        "print(f\"ROC AUC Score: {roc_auc}\")\n",
        "\n",
        "#0.790530\n",
        "#0.791731"
      ],
      "metadata": {
        "colab": {
          "base_uri": "https://localhost:8080/"
        },
        "id": "xUZhBb3DVi9a",
        "outputId": "fd18f3f6-2151-4e67-ce28-f4438afde4d5"
      },
      "execution_count": 28,
      "outputs": [
        {
          "output_type": "stream",
          "name": "stdout",
          "text": [
            "Accuracy: 0.045598480050664976\n",
            "Recall: 0.03773380097266429\n",
            "Precision: 0.19869762165642157\n",
            "F1 Score: 0.047105652909985134\n",
            "ROC AUC Score: 0.7917311245652595\n"
          ]
        },
        {
          "output_type": "stream",
          "name": "stderr",
          "text": [
            "/usr/local/lib/python3.10/dist-packages/sklearn/metrics/_classification.py:1344: UndefinedMetricWarning: Precision is ill-defined and being set to 0.0 in labels with no predicted samples. Use `zero_division` parameter to control this behavior.\n",
            "  _warn_prf(average, modifier, msg_start, len(result))\n"
          ]
        }
      ]
    },
    {
      "cell_type": "markdown",
      "source": [
        "# Modelo 2 TfidfVectorizer"
      ],
      "metadata": {
        "id": "cPz5_9b1tFul"
      }
    },
    {
      "cell_type": "code",
      "source": [
        "from sklearn.feature_extraction.text import TfidfVectorizer\n",
        "from sklearn.model_selection import train_test_split\n",
        "from sklearn.preprocessing import MultiLabelBinarizer\n",
        "from sklearn.ensemble import RandomForestClassifier\n",
        "from sklearn.metrics import roc_auc_score\n",
        "from sklearn.multiclass import OneVsRestClassifier\n",
        "\n",
        "# Utilizar TfidfVectorizer en lugar de CountVectorizer\n",
        "vect = TfidfVectorizer(max_features=1000)\n",
        "X_dtm = vect.fit_transform(dataTraining['plot'])\n",
        "\n",
        "# Asegurarse de que los géneros están en formato de lista de listas\n",
        "dataTraining['genres'] = dataTraining['genres'].map(lambda x: eval(x) if isinstance(x, str) else x)\n",
        "\n",
        "# Utilizar MultiLabelBinarizer para transformar las etiquetas de género\n",
        "le = MultiLabelBinarizer()\n",
        "y_genres = le.fit_transform(dataTraining['genres'])\n",
        "\n",
        "# Dividir los datos en conjuntos de entrenamiento y prueba\n",
        "X_train, X_test, y_train_genres, y_test_genres = train_test_split(X_dtm, y_genres, test_size=0.20, random_state=42)\n",
        "\n",
        "# Definir y entrenar el clasificador con los mejores hiperparámetros\n",
        "clf = OneVsRestClassifier(RandomForestClassifier(\n",
        "    n_estimators=200,  # número óptimo de árboles\n",
        "    max_depth=20,  # profundidad máxima del árbol\n",
        "    min_samples_split=2,  # mínimo de muestras requeridas para dividir un nodo\n",
        "    min_samples_leaf=4,  # mínimo de muestras requeridas en un nodo hoja\n",
        "    n_jobs=-1,  # usar todos los núcleos disponibles\n",
        "    random_state=42  # semilla para la reproducibilidad\n",
        "))\n",
        "clf.fit(X_train, y_train_genres)\n",
        "\n",
        "# Realizar predicciones en el conjunto de prueba\n",
        "y_pred_genres = clf.predict_proba(X_test)\n",
        "\n",
        "# Calcular y mostrar el AUC ROC score\n",
        "auc_score = roc_auc_score(y_test_genres, y_pred_genres, average='macro')\n",
        "print(f\"ROC AUC Score: {auc_score}\")"
      ],
      "metadata": {
        "colab": {
          "base_uri": "https://localhost:8080/"
        },
        "id": "7pcmSZXetIR-",
        "outputId": "3edab173-d5cf-4e93-9643-627813d1bebe"
      },
      "execution_count": 29,
      "outputs": [
        {
          "output_type": "stream",
          "name": "stdout",
          "text": [
            "ROC AUC Score: 0.8185995257049203\n"
          ]
        }
      ]
    },
    {
      "cell_type": "code",
      "source": [
        "print(dataTraining.shape)"
      ],
      "metadata": {
        "colab": {
          "base_uri": "https://localhost:8080/"
        },
        "id": "wN52ebV5G3HK",
        "outputId": "5a1c07ea-be34-46c5-e596-e952622008cb"
      },
      "execution_count": 30,
      "outputs": [
        {
          "output_type": "stream",
          "name": "stdout",
          "text": [
            "(7895, 5)\n"
          ]
        }
      ]
    }
  ],
  "metadata": {
    "kernelspec": {
      "display_name": "Python 3",
      "language": "python",
      "name": "python3"
    },
    "language_info": {
      "codemirror_mode": {
        "name": "ipython",
        "version": 3
      },
      "file_extension": ".py",
      "mimetype": "text/x-python",
      "name": "python",
      "nbconvert_exporter": "python",
      "pygments_lexer": "ipython3",
      "version": "3.7.4"
    },
    "colab": {
      "provenance": []
    }
  },
  "nbformat": 4,
  "nbformat_minor": 0
}